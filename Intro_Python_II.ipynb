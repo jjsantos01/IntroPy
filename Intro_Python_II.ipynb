{
 "cells": [
  {
   "cell_type": "markdown",
   "metadata": {},
   "source": [
    "# Introducción a Pyhton II\n",
    "En este taller vamos a ver algunas funcionalidades que nos permitirán repetir iterativamente un proceso. También veremos cómo crear nuestras propias funciones.\n",
    "\n",
    "Al finalizar el taller estarás en capacidad de:\n",
    "* Generar procesos iterativos.\n",
    "* Hacer declaraciones condicionales.\n",
    "* Crear tus propias funciones.\n"
   ]
  },
  {
   "cell_type": "markdown",
   "metadata": {},
   "source": [
    "## Estructuras de control\n",
    "Las estructuras de control son procesos que nos ayudan a hacer tareas repetitivas y controlarlas. Las estructuras más usadas en Python son:\n",
    "```python\n",
    "for, while, if - else - elif\n",
    "```\n",
    "\n",
    "   ### for\n",
    "\n",
    "El comando ``` for``` sirve para ejecutar una tarea repetitiva en la que cambian uno o varios parámetros. Iremos por cada uno de los elementos guardados en un **objeto iterable** y ejecutaremos algún procedimiento en el que utilizamos el elemento.\n",
    "\n",
    "Ejemplo:"
   ]
  },
  {
   "cell_type": "code",
   "execution_count": null,
   "metadata": {
    "collapsed": false
   },
   "outputs": [],
   "source": []
  },
  {
   "cell_type": "markdown",
   "metadata": {},
   "source": [
    "donde:\n",
    "* `i` es el parámetro que irá cambiando en cada ciclo.\n",
    "* `range(10)` es una función que genera una lista con elementos del 0 al 9. Este es el elemento iterable.\n",
    "* `print()` es la función que se aplicará a cada elemento `i`.\n",
    "\n",
    "La intuición es simple: a cada elemento `i` de la lista `range(10)` se le aplicará la función `print`\n",
    "\n",
    "Es importante notar la sintaxis del comando. Al final de la primera línea que define el `for` debe ir el símbolo $:$ y los elementos que van dentro del loop deben estar **indentados**, esto es con una tabulación (o 4 espacios simples).\n",
    "```python\n",
    "for i in range(10): \n",
    "    e = i**2\n",
    "    o = i**3\n",
    "    print(e+o)\n",
    "```\n",
    "\n",
    "Si el procedimiento que se va a ejecutar consiste en solo una línea de código, entonces el loop se puede hacer todo en una línea:\n",
    "```python\n",
    "for i in range(10): print(i**2)\n",
    "```"
   ]
  },
  {
   "cell_type": "markdown",
   "metadata": {},
   "source": [
    "### while\n",
    "Los loops while ejecutarán una acción mientras el resultado de una operación sea verdadero. Cuando su valor cambie a falso, el loop se detendrá. La sintaxis de un ```while``` es la siguiente:\n",
    "```python\n",
    "while condicion(x):\n",
    "    procedimiento(x)\n",
    "```\n",
    "donde:\n",
    "* condicion(x) es una operación que da como resultado un booleano. Si el resultado de la operación es ```True``` entonces el loop se ejecutará, si es ```False``` se detendrá.\n",
    "* procedimiento(x): es un conjunto de acciones que se ejecutarán si la condición es verdadera. Estas acciones deberán modificar el valor de x, sino el loop nunca se detendrá.\n",
    "\n",
    "Hay que utilizar con mucho cuidado los loops ```while``` porque si no están bien definidos pueden llevar a iteraciones infinitas."
   ]
  },
  {
   "cell_type": "code",
   "execution_count": null,
   "metadata": {
    "collapsed": false
   },
   "outputs": [],
   "source": []
  },
  {
   "cell_type": "markdown",
   "metadata": {
    "collapsed": true
   },
   "source": [
    "### if - elif - else\n",
    "\n",
    "Las declaraciones `if-else-elif` nos permiten ejecutar código de manera condicional, es decir, si se cumple cierta condición entonces ocurren ciertas acciones, sino entonces se ejecutan otras acciones.\n",
    "\n",
    "La sintaxis completa de una declaración `if-else-elif` es:\n",
    "\n",
    "```python\n",
    "if cond1(x):\n",
    "    accion1\n",
    "elif cond2(x):\n",
    "    accion2\n",
    "elif cond3(x):\n",
    "    accion3\n",
    "else:\n",
    "    accion4\n",
    "```\n",
    "donde `cond1(x)` es una operación que arroja un booleano. Si es `True`, entonces se ejecuta `accion1`, si es `False` entonces pasa a evaluar la siguiente condición, `cond2`. Si `cond2` es `True`, se ejecuta `accion2` y así sucesivamente va evaluando cada condición hasta llegar a `else`, donde se ejecutará accion4 si ninguna de las condiciones anteriores fue verdadera.\n",
    "\n",
    "No necesariamente debemos incluir todas las condiciones, podríamos incluir solo una condición:\n",
    "\n",
    "```python\n",
    "if cond1(x):\n",
    "    accion1\n",
    "```\n",
    "\n",
    "Una condición y una opción si no se cumple:\n",
    "```python\n",
    "if cond1(x):\n",
    "    accion1\n",
    "else:\n",
    "    accion4\n",
    "```\n",
    "Varias condiciones:\n",
    "```python\n",
    "if cond1(x):\n",
    "    accion1\n",
    "elif cond2(x):\n",
    "    accion2\n",
    "```\n",
    "\n"
   ]
  },
  {
   "cell_type": "code",
   "execution_count": null,
   "metadata": {
    "collapsed": false
   },
   "outputs": [],
   "source": []
  },
  {
   "cell_type": "markdown",
   "metadata": {},
   "source": [
    "También podemos usar las declaraciones `if-else` al definir una variable:"
   ]
  },
  {
   "cell_type": "code",
   "execution_count": null,
   "metadata": {
    "collapsed": false
   },
   "outputs": [],
   "source": []
  },
  {
   "cell_type": "markdown",
   "metadata": {},
   "source": [
    "### Listas por comprensión\n",
    "\n",
    "Es una forma de definir listas usando iteraciones. Retomando el ejemplo anterior, podríamos construir una lista que contenga  los elementos del 0 al 9 elevados al cuadrado de dos formas:"
   ]
  },
  {
   "cell_type": "code",
   "execution_count": 5,
   "metadata": {
    "collapsed": false
   },
   "outputs": [],
   "source": [
    "# procedimiento común\n"
   ]
  },
  {
   "cell_type": "code",
   "execution_count": null,
   "metadata": {
    "collapsed": false
   },
   "outputs": [],
   "source": [
    "# usando listas por comprensión\n"
   ]
  },
  {
   "cell_type": "markdown",
   "metadata": {},
   "source": [
    "* En las listas por comprensión definimos el loop dentro de corchetes $\\mathbf{[}$ $\\mathbf{]}$. Colocamos primero la función que se aplicará a cada elemento y después el loop.\n",
    "\n",
    "* También podríamos hacer una lista de diccionarios usando listas por comprensión:"
   ]
  },
  {
   "cell_type": "code",
   "execution_count": null,
   "metadata": {
    "collapsed": false
   },
   "outputs": [],
   "source": []
  },
  {
   "cell_type": "markdown",
   "metadata": {},
   "source": [
    "* Podemos hacer loops anidados\n",
    "* Podemos agregar condicional ```if```"
   ]
  },
  {
   "cell_type": "code",
   "execution_count": null,
   "metadata": {
    "collapsed": false
   },
   "outputs": [],
   "source": []
  },
  {
   "cell_type": "markdown",
   "metadata": {},
   "source": [
    "### Diccionarios por comprensión\n",
    "Al igual que las listas podemos crear diccionarios por comprensión"
   ]
  },
  {
   "cell_type": "code",
   "execution_count": null,
   "metadata": {
    "collapsed": false
   },
   "outputs": [],
   "source": []
  },
  {
   "cell_type": "markdown",
   "metadata": {
    "collapsed": true
   },
   "source": [
    "## Importando paquetes y funciones\n",
    "\n",
    "Los paquetes son conjuntos de funciones que tenemos que llamar si los vamos a usar en el programa.\n",
    "\n",
    "Podemos llamar paquetes de diferentes maneras:"
   ]
  },
  {
   "cell_type": "code",
   "execution_count": null,
   "metadata": {
    "collapsed": false
   },
   "outputs": [],
   "source": [
    "# importar un paquete\n"
   ]
  },
  {
   "cell_type": "code",
   "execution_count": null,
   "metadata": {
    "collapsed": false
   },
   "outputs": [],
   "source": [
    "# en lugar de escribir pandas escribiré pd\n"
   ]
  },
  {
   "cell_type": "code",
   "execution_count": 5,
   "metadata": {
    "collapsed": false,
    "scrolled": true
   },
   "outputs": [
    {
     "data": {
      "text/html": [
       "\n",
       "<iframe width=\"100%\" height=\"400\" src=\"http://www.xe.com/currencyconverter/\" allowfullscreen=\"allowfullscreen\" frameborder=\"0\"></iframe>\n"
      ],
      "text/plain": [
       "<IPython.core.display.HTML object>"
      ]
     },
     "execution_count": 5,
     "metadata": {},
     "output_type": "execute_result"
    }
   ],
   "source": [
    "from IPython.display import HTML # importamos solo una o varias funciones del paquete\n",
    "HTML('''\n",
    "<iframe width=\"100%\" height=\"400\" src=\"http://www.xe.com/currencyconverter/\" allowfullscreen=\"allowfullscreen\" frameborder=\"0\"></iframe>\n",
    "''')"
   ]
  },
  {
   "cell_type": "markdown",
   "metadata": {},
   "source": [
    "## Definiendo funciones\n",
    "\n",
    "En Python podemos definir nuestras propias funciones para ahorrar tiempo y líneas de código cuando tenemos un proceso en el que repetimos el mismo procedimiento.\n",
    "\n",
    "La sintaxis general para definir una función es la siguiente:\n",
    "```python\n",
    "def nombre_funcion(lista de parametros):\n",
    "    ''' Documentación \n",
    "            de la función'''\n",
    "    cuerpo de la funcion: procedimientos, loops, if-statements, otras funciones\n",
    "    return resultados\n",
    "```\n",
    "\n",
    "* Para ejecutar la función escribimos el nombre de la función y los parámetros:\n",
    "\n",
    "```python\n",
    "nombre_funcion(parametros)\n",
    "```\n",
    "* Los parámetros controlan cómo se ejecutará la función. Una función puede \n"
   ]
  },
  {
   "cell_type": "code",
   "execution_count": null,
   "metadata": {
    "collapsed": false
   },
   "outputs": [],
   "source": [
    "#  no contener parámetros\n"
   ]
  },
  {
   "cell_type": "code",
   "execution_count": null,
   "metadata": {
    "collapsed": false
   },
   "outputs": [],
   "source": [
    "# Parámetros obligatorios\n"
   ]
  },
  {
   "cell_type": "code",
   "execution_count": 1,
   "metadata": {
    "collapsed": false
   },
   "outputs": [],
   "source": [
    "# Parámetros opcionales\n"
   ]
  },
  {
   "cell_type": "code",
   "execution_count": 2,
   "metadata": {
    "collapsed": false
   },
   "outputs": [],
   "source": [
    "# parametros que no definimos.\n"
   ]
  },
  {
   "cell_type": "code",
   "execution_count": 3,
   "metadata": {
    "collapsed": false
   },
   "outputs": [],
   "source": [
    "# introducir un input interactivamente\n"
   ]
  },
  {
   "cell_type": "markdown",
   "metadata": {},
   "source": [
    "   \n",
    "* La documentación es opcional, aunque muy recomendable. Idealmente se debe describir qué hace la función, qué hace cada parámetro y algún ejemplo de funcionamiento.\n",
    "* El cuerpo de la función son instrucciones de código en Python donde usamos los parámetros.\n",
    "* Usualmente una función retorna un resultado, aunque no es estrictamente necesario.\n",
    "* En algunos casos si la función consiste en solo una línea de código puede ser conveniente guardarla como una **función lambda**:"
   ]
  },
  {
   "cell_type": "code",
   "execution_count": 4,
   "metadata": {
    "collapsed": false
   },
   "outputs": [],
   "source": [
    "# función lambda\n"
   ]
  },
  {
   "cell_type": "markdown",
   "metadata": {},
   "source": [
    "# EJERCICIO\n",
    "\n",
    "Vamos a programar varias funciones:\n",
    "1. **Fibonnaci**:\n",
    "\n",
    "    Una serie de Fibonacci es una serie de números en la que el elemento siguiente es igual a la suma de los dos anteriores, por ejemplo, 1,1,2,3,5,8,13,21....\n",
    "\n",
    "    Cree una función que se llame `fibonacci` y tenga un parámetro `N` que sea un número entero y retorne como resultado una lista con los primeros N elementos de la serie de fibonacci. La función debe detectar que el parámetro introducido sea un entero, y en caso contrario debe imprimir un mensaje en el que diga que no se introdujo un entero. \n",
    "    \n",
    "    _sugerencia: puede usar las funciones `type()`, `range()`, `sum()`_\n",
    "2. **Análisis de texto**:\n",
    "\n",
    "    Crearemos una función llamada analisis_texto en la que introduciremos de manera interactiva un texto largo y el output serán algunas estadísticas del texto:\n",
    "    * Número total de caracteres\n",
    "    * Número total de palabras\n",
    "    * Número de palabras únicas\n",
    "    * Número de oraciones (Una oración acaba donde hay un punto)..\n",
    "    * Número promedio de palabras en cada oración.\n",
    "    \n",
    "    \n",
    "La función debe tener un parámetro opcional que se llame `palabras` y debe ser una lista de palabras. Si el parámetro se incluye, entonces en el resultado también se debe reportar la frecuencia con que ocurren estas palabras en el texto y en cuántas oraciones aparece.\n",
    "\n",
    "_sugerencia: utilice el método .split() para datos de texto. También las funciones input(),len() y listas por comprensión_\n",
    "    "
   ]
  },
  {
   "cell_type": "code",
   "execution_count": null,
   "metadata": {
    "collapsed": false,
    "scrolled": false
   },
   "outputs": [],
   "source": []
  },
  {
   "cell_type": "markdown",
   "metadata": {},
   "source": []
  },
  {
   "cell_type": "code",
   "execution_count": null,
   "metadata": {
    "collapsed": false
   },
   "outputs": [],
   "source": []
  }
 ],
 "metadata": {
  "anaconda-cloud": {},
  "kernelspec": {
   "display_name": "Python [py36]",
   "language": "python",
   "name": "Python [py36]"
  },
  "language_info": {
   "codemirror_mode": {
    "name": "ipython",
    "version": 3
   },
   "file_extension": ".py",
   "mimetype": "text/x-python",
   "name": "python",
   "nbconvert_exporter": "python",
   "pygments_lexer": "ipython3",
   "version": "3.6.1"
  }
 },
 "nbformat": 4,
 "nbformat_minor": 2
}
