{
 "cells": [
  {
   "cell_type": "markdown",
   "metadata": {},
   "source": [
    "# Introducción a Python\n",
    "\n",
    "Python es un lenguaje de alto nivel de propósito general, con usos muy diversos como el desarrollo web, creación de juegos y el análisis de datos. Entre las ventajas de usar Python están:\n",
    "* Es gratuito.\n",
    "* Es relativamente fácil de programar.\n",
    "* Es multipropósito, puede hacer muchas tareas aparte del análisis de datos.\n",
    "* Tiene miles de librerias con funciones escritas por otras personas y que pueden ser descargadas.\n",
    "* Es uno de los lenguajes más utilizados en el mundo, por lo que hay mucha información en internet para solucionar dudas.\n",
    "* Hay una alta demanda laboral de personas que sepan análisis de datos y programación y Python está entre los programas más demandados.\n",
    "\n",
    "[en este blog](https://www.ibm.com/developerworks/community/blogs/jfp/entry/Why_Python?lang=en) y en este [otro](https://dbader.org/blog/why-learn-python) pueden encontrar más razones para usar Python."
   ]
  },
  {
   "cell_type": "markdown",
   "metadata": {
    "nbpresent": {
     "id": "a33a1be1-c8d1-4eca-b4c5-dab812c52550"
    }
   },
   "source": [
    "## Filosofía de Python\n",
    "Python sigue el principio de que la programación debe ser sencilla y fácilmente legible. La sintaxis en Python ayuda a que los programadores escriban menor cantidad de código a comparación de otros lenguajes. La filosofía viene descrita en el Zen de Python (negrillas propias).\n",
    "* Bello es mejor que feo.\n",
    "* **Explícito es mejor que implícito.**\n",
    "* **Simple es mejor que complejo.**\n",
    "* Complejo es mejor que complicado.\n",
    "* Plano es mejor que anidado.\n",
    "* Disperso es mejor que denso.\n",
    "* **La legibilidad cuenta.**\n",
    "* Los casos especiales no son tan especiales como para quebrantar las reglas.\n",
    "* Lo práctico gana a lo puro.\n",
    "* Los errores nunca deberían dejarse pasar silenciosamente.\n",
    "* A menos que hayan sido silenciados explícitamente.\n",
    "* Frente a la ambigüedad, rechaza la tentación de adivinar.\n",
    "* **Debería haber una -y preferiblemente sólo una- manera obvia de hacerlo.**\n",
    "* Aunque esa manera puede no ser obvia al principio a menos que usted sea holandés.\n",
    "* Ahora es mejor que nunca.\n",
    "* Aunque nunca es a menudo mejor que ya mismo.\n",
    "* Si la implementación es difícil de explicar, es una mala idea.\n",
    "* **Si la implementación es fácil de explicar, puede que sea una buena idea.**\n",
    "* Los espacios de nombres (namespaces) son una gran idea ¡Hagamos más de esas cosas!\n",
    "\n",
    "Estos principios se pueden ver al ejecutar:\n",
    "```python\n",
    "import this\n",
    "```"
   ]
  },
  {
   "cell_type": "markdown",
   "metadata": {},
   "source": [
    "## Usos de Python\n",
    "* Análisis y visualización de datos.\n",
    "    * Estadística descriptiva\n",
    "    * Modelos Econométricos\n",
    "    * *Machine learning*: [Scikit-Learn](http://scikit-learn.org/stable/), [TensorFlow](https://www.tensorflow.org/)\n",
    "    * [Análisis de texto](https://www.datacamp.com/courses/natural-language-processing-fundamentals-in-python?).\n",
    "    \n",
    "* Desarrollo web, [creaciones de aplicaciones web](https://www.instagram.com/?hl=es): [DJango](https://www.djangoproject.com/), [Flask](http://flask.pocoo.org/), [Pyramid](https://trypyramid.com/).\n",
    "* [Creación de aplicaciones de escritorio](https://www.dropbox.com/h): PyQT(https://riverbankcomputing.com/software/pyqt/intro), [wxPython](https://wxpython.org/), [Tkinter](https://docs.python.org/3/library/tk.html)\n",
    "* Computación matemática y científica: [SciPy](https://www.scipy.org/),[SymPy](http://docs.sympy.org/latest/index.html)\n",
    "* [Desarrollo de videojuegos](https://wiki.python.org/moin/PythonGames)\n",
    "* [Analisis geoespacial](https://automating-gis-processes.github.io/2016/index.html): Geocoding, operaciones con shapefiles, [visualizaciones](http://python-visualization.github.io/folium/quickstart.html).\n",
    "* [Web scrapping](http://www.thebillionpricesproject.com/): [BeautifulSoup](https://www.crummy.com/software/BeautifulSoup/), [Scrapy](https://scrapy.org/).\n",
    "\n",
    "[Y mucho más](https://www.python.org/about/success/)"
   ]
  },
  {
   "cell_type": "markdown",
   "metadata": {
    "nbpresent": {
     "id": "1b199828-1e4d-4aaf-b837-57127d66af8e"
    }
   },
   "source": [
    "## Instalación\n",
    "Hay varias distribuciones de Python, pero la más recomendada es la de **[Anaconda](https://www.anaconda.com/download/)**, ya que incluye la mayoría de paquetes utilizados en análisis de datos. La versión más actual de Python es la 3.6, sin embargo la versión 2.7 sigue siendo la más utilizada. Para este taller usaremos la versión 3.6.\n",
    "\n",
    "## Abriendo Jupyter Notebook\n",
    "Podríamos usar Python directamente desde la consola de comandos de nuestra computadora, sin embargo lo usual es utilizar IDLES con una interfaz gráfica más amigable. Con anaconda se instalan dos programas con los que podemos trabajar Python: **Spyder** y **Jupyter Notebook**. En esta presentación vamos a utilizar el Jupyter notebook ya que es más amigable para empezar a programar.\n",
    "\n",
    "Para abrir Jupyter Notebook tenemos dos opciones:\n",
    "1. Buscar entre nuestros programas instalados a Jupyter Notebook y abrirlo.\n",
    "2. Desde la terminal de comandos, nos ubicamos en la carpeta en que queremos trabajar y escribimos: \n",
    "```\n",
    "jupyter notebook\n",
    "```\n",
    "\n",
    "Se abrirá una ventana de comandos que **no debemos cerrar**.\n",
    "\n",
    "En nuestro explorador de internet se abrirá una nueva pestaña que será el host local de Jupyter, y mostrará los archivos de ese directorio.\n",
    "\n",
    "### Creando un nuevo notebok\n",
    "\n",
    "1. Nos vamos a la esquina superior derecha, hacemos click en el botón que dice *New* y seleccionamos *Python [root]*\n",
    "\n",
    "2.  Se abrirá una nueva pestaña con un notebook y le asignamos un nombre. \n",
    "3.  En los notebooks se trabaja con celdas, en las que puede ir código o texto en markdown (permite incluir expresiones matemáticas de latex $y = X^2\\hat{\\beta} + \\mu_i$). En la caja superior se puede seleccionar cuál es el contenido de la celda.\n",
    "\n",
    "4. Para agregar nuevas celdas hacemos click en el el símbolo $+$ en la parte superior.\n",
    "\n",
    "5. Para ejecutar el código de una celda presionamos *ctrl + enter*. El resultado de la operación, si lo hay, se mostrará debajo de la celda."
   ]
  },
  {
   "cell_type": "code",
   "execution_count": 1,
   "metadata": {
    "nbpresent": {
     "id": "91dd76d3-98df-4a43-914d-d377792b7a39"
    }
   },
   "outputs": [
    {
     "name": "stdout",
     "output_type": "stream",
     "text": [
      "hola mundo!\n"
     ]
    }
   ],
   "source": [
    "# aquí imprimimmos #\n",
    "print('hola mundo!')"
   ]
  },
  {
   "cell_type": "markdown",
   "metadata": {
    "nbpresent": {
     "id": "febba9e0-08a8-4653-bfc8-db4b7b510b88"
    }
   },
   "source": [
    "* Los notebooks de Python tienen extensión **.ipynb**. Los scripts normales de Python tienen extensión **.py**\n",
    "* Cada línea de código es una instrucción separada. Generalmente, en cada línea solo se puede hacer una operación, por ejemplo, asignar un objeto a una variable, leer datos, hacer una operación matemática, etc. Si se quiere hacer varias operaciones en una sola línea se puede separar cada operación por un punto y coma $;$\n",
    "* Python es sensible a mayúsculas y minúsculas.\n",
    "* Hay algunas palabras claves reservadas para el uso de Python. En un Jupyter Notebook estas palabras se vulven de color verde al escribirlas. Por ejemplo:\n",
    "```python\n",
    "for,if,in,import,print(),False,True, len(), type()\n",
    "```\n",
    "Pueden verlas todas [aquí](https://www.programiz.com/python-programming/keyword-list)\n",
    "\n",
    "* Los Notebooks tienen muchas funcionalidades, como crear [visualizaciones interactivas](https://blog.dominodatalab.com/interactive-dashboards-in-jupyter/) o [dashboards](http://jupyter-dashboards-layout.readthedocs.io/en/latest/index.html). Para aprender más de los Notebooks y ver otras funciones interesantes pueden ver esta [guía](https://s3.amazonaws.com/assets.datacamp.com/blog_assets/Jupyter_Notebook_Cheat_Sheet.pdf), esta [otra](https://www.datacamp.com/community/tutorials/tutorial-jupyter-notebook#gs.BsF_sZM) y esta [página](https://blog.dominodatalab.com/lesser-known-ways-of-using-notebooks/) para funciones más avanzadas."
   ]
  },
  {
   "cell_type": "markdown",
   "metadata": {
    "nbpresent": {
     "id": "c9f12f8b-1c84-4f02-95df-7c82b7ee3228"
    }
   },
   "source": [
    "## Tipos de datos\n",
    "* ### Númericos\n",
    "    \n",
    "    * #### enteros:\n",
    "    Números sin decimales, positivos o negativos. Se pueden escribir directamente en la consola de Python.\n",
    "    \n",
    "    * #### flotantes:\n",
    "    Números con decimales, positivos o negativos. También incluye valores que son no numéricos (NaN) y el infinito.\n",
    "    \n",
    "    * #### Operaciones con números:\n",
    "      \n",
    "    ![alt text](numberOperations.png \"Operaciones con números\")\n",
    "    \n",
    "    También existen los operadores $+=$,$-=$, $*=$, $/=$ para hacer operaciones reflexivas, por ejemplo, $a+=2$ es equivalente a $a= a + 2$\n",
    "    \n",
    "    * #### operaciones de comparación:\n",
    "    ![alt text](comparisonsOperations.png \"Operaciones con números\")"
   ]
  },
  {
   "cell_type": "code",
   "execution_count": 2,
   "metadata": {},
   "outputs": [
    {
     "data": {
      "text/plain": [
       "True"
      ]
     },
     "execution_count": 2,
     "metadata": {},
     "output_type": "execute_result"
    }
   ],
   "source": [
    "a=10\n",
    "b=2\n",
    "a!=b"
   ]
  },
  {
   "cell_type": "markdown",
   "metadata": {},
   "source": [
    "* ### Texto\n",
    "    En Python una cadena de texto es un objeto denominado *str* o *string*. Un *string* se puede crear de diferentes formas:\n",
    "    1. Colocando texto entre comillas dobles \": \n",
    "    ```python\n",
    "    \"puedo usar 'comillas' simples adentro\"\n",
    "    ```\n",
    "    2.  Colocando texto entre comillas simples ':\n",
    "    ```python\n",
    "    'puedo usar \"comillas\" dobles adentro'\n",
    "    ```\n",
    "    3. Usando comillas triples (tres comillas simples '''):\n",
    "    ```python\n",
    "    '''Puedo escribir \n",
    "    varias lineas \n",
    "    de texto'''\n",
    "    ```\n",
    "    4. usando el constructor str():\n",
    "    ```python\n",
    "    str(2)\n",
    "  ```"
   ]
  },
  {
   "cell_type": "markdown",
   "metadata": {},
   "source": [
    "#### operaciones con string\n",
    "Con las cadenas de texto podemos usar las operaciones:\n",
    "* suma: $+$ \n",
    "* multiplicación: $*$ \n",
    "* Igual o diferente: $==$ o $!=$\n",
    "* \"mayor que\" o \"menor que\": $>$ o $<$\n",
    "* Además se puede usar los operadores **in** y **not in**"
   ]
  },
  {
   "cell_type": "code",
   "execution_count": 3,
   "metadata": {},
   "outputs": [
    {
     "name": "stdout",
     "output_type": "stream",
     "text": [
      "la suma de los dos string es: holamundo\n",
      "Aquí asociamos y multiplicamos: holamundo holamundo holamundo \n",
      "¿'hola' es mayor que 'mundo'? False\n",
      "¿'mundo' es mayor que 'hola'? True\n",
      "¿'mundo' contiene la letra t? False\n"
     ]
    }
   ],
   "source": [
    "h = \"hola\"\n",
    "m = 'mundo'\n",
    "# Suma\n",
    "print(\"la suma de los dos string es:\",h+m)\n",
    "# Multiplicación\n",
    "print(\"Aquí asociamos y multiplicamos:\",(h+m+' ')*3)\n",
    "#Comparación lexicográfica. Para ver el orden usar ord(\"\")\n",
    "print(\"¿'hola' es mayor que 'mundo'?\",h>m)\n",
    "print(\"¿'mundo' es mayor que 'hola'?\",m>h)\n",
    "print(\"¿'mundo' contiene la letra t?\", 't' in m)"
   ]
  },
  {
   "cell_type": "markdown",
   "metadata": {},
   "source": [
    "* Podemos extraer parte de un texto indexando con corchetes y la posición o un rango."
   ]
  },
  {
   "cell_type": "code",
   "execution_count": 4,
   "metadata": {},
   "outputs": [
    {
     "name": "stdout",
     "output_type": "stream",
     "text": [
      "la primera letra es: h\n",
      "Las primeras 3 letras son: hol\n",
      "Las últimas 2 letras son: la\n"
     ]
    }
   ],
   "source": [
    "print('la primera letra es:',h[0])\n",
    "print('Las primeras 3 letras son:',h[0:3])\n",
    "print('Las últimas 2 letras son:',h[-2:])"
   ]
  },
  {
   "cell_type": "markdown",
   "metadata": {
    "nbpresent": {
     "id": "1434ea8c-23c5-4696-9948-9f4f5c0747c9"
    }
   },
   "source": [
    "#### Métodos de *string*\n",
    "    \n",
    "Los métodos son funciones que se aplican sobre el objeto. Algunos de los métodos útiles para cadenas de texto son los siguientes:"
   ]
  },
  {
   "cell_type": "code",
   "execution_count": 5,
   "metadata": {},
   "outputs": [
    {
     "name": "stdout",
     "output_type": "stream",
     "text": [
      "Solo la primera letra en mayúscula: Esta es una cadena de texto\n",
      "Todo en mayúscula: ESTA ES UNA CADENA DE TEXTO\n",
      "Todo en minúscula: esta es una cadena de texto\n",
      "La primera letra de cada palabra en mayúscula: Esta Es Una Cadena De Texto\n",
      "La letra 'a' aparece 4 veces\n",
      "La primera ocurrencia de la letra 'a' está en la posición 3\n",
      "Puedo construir una lista 'rompiendo' un t,ex,to: ['t', 'ex', 'to']\n"
     ]
    }
   ],
   "source": [
    "L = \"Esta es una Cadena de Texto\"\n",
    "print(\"Solo la primera letra en mayúscula:\",L.capitalize())\n",
    "print(\"Todo en mayúscula:\", L.upper())\n",
    "print(\"Todo en minúscula:\", L.lower())\n",
    "print(\"La primera letra de cada palabra en mayúscula:\", L.title())\n",
    "print(\"La letra 'a' aparece\",L.count('a'),\"veces\")\n",
    "print(\"La primera ocurrencia de la letra 'a' está en la posición\",L.find('a'))\n",
    "print(\"Puedo construir una lista 'rompiendo' un t,ex,to:\",'t,ex,to'.split(','))"
   ]
  },
  {
   "cell_type": "markdown",
   "metadata": {},
   "source": [
    "* ### Booleanos\n",
    "Los Booleanos toman dos valores, **True** o **False**. Los usamos principalmente en estructuras if-else para validar condiciones y también como índices en algunas estructuras de datos.\n",
    "Los booleanos también pueden ser considerados números enteros: *True* es igual a 1 y *False* a 0."
   ]
  },
  {
   "cell_type": "code",
   "execution_count": 6,
   "metadata": {},
   "outputs": [
    {
     "name": "stdout",
     "output_type": "stream",
     "text": [
      "2+True= 3\n",
      "2*False= 2\n"
     ]
    }
   ],
   "source": [
    "# podemos hacer operaciones aritméticas con booleanos:\n",
    "print(\"2+True=\",2+True)\n",
    "print(\"2*False=\",2*True)"
   ]
  },
  {
   "cell_type": "markdown",
   "metadata": {},
   "source": [
    "Los booleanos se pueden construir de distintas formas:\n",
    "1. A partir de una comparación de elementos.\n",
    "2. Los elementos de tipo *int*, *float* y *str* pueden convertirse en booleanos. Cualquier número, excepto el cero, retorna un valor *True*, el cero retorna un valor *False*. Cualquier texto retorna un valor True, solo un string vacío genera un *False*."
   ]
  },
  {
   "cell_type": "code",
   "execution_count": 7,
   "metadata": {},
   "outputs": [
    {
     "name": "stdout",
     "output_type": "stream",
     "text": [
      "A partir de una comparación de elementos: True\n",
      "A partir del constructor bool(): True False True False\n"
     ]
    }
   ],
   "source": [
    "print(\"A partir de una comparación de elementos:\",a>5)\n",
    "print(\"A partir del constructor bool():\",bool(5.3),bool(0),bool(h),bool(\"\"))"
   ]
  },
  {
   "cell_type": "markdown",
   "metadata": {
    "nbpresent": {
     "id": "924fbfec-5c04-4f5b-89e2-a6162fafaa05"
    }
   },
   "source": [
    "## Tipos de estructuras de datos en Python\n",
    "\n",
    "Python tiene diferentes tipos de estructuras para guardar datos. Algunas vienen incluidas en el nucleo base de Python, pero otras se importan con librerías. Para el análisis de datos usamos principalmente DataFrames de la librería [Pandas](http://pandas.pydata.org/) y arrays de [NumPy](http://www.numpy.org/), sin embargo para este taller usaremos principalmente listas, dicccionarios y conjuntos. \n",
    "\n",
    "Veamos las estructras más básicas:\n",
    "### Listas\n",
    "es un arreglo de elementos separados por comas, encerrados en corchetes []. También se pueden crear con el constructor *list()*. Cada elemento puede ser un número, texto, listas, o cualquier otro objeto de Python."
   ]
  },
  {
   "cell_type": "code",
   "execution_count": 8,
   "metadata": {
    "collapsed": true,
    "nbpresent": {
     "id": "cfa95e8a-48b4-426d-a270-f8bedc8c1dc5"
    }
   },
   "outputs": [],
   "source": [
    "J = ['Juan',89,['H',3],False,4.8]\n",
    "K = list(('True','Kelly'))"
   ]
  },
  {
   "cell_type": "markdown",
   "metadata": {
    "nbpresent": {
     "id": "a8e7892e-e137-424f-ba0a-e39ec1817e92"
    }
   },
   "source": [
    "Para indexar los elementos las listas se utilizan [] al lado de la lista y el número de posición del elemento. Hay que tener cuidado porque en Python la enumeracion de elementos empieza desde 0, por tanto el primer elemento se indexa con 0, el segundo con 1 y así sucesivamente:"
   ]
  },
  {
   "cell_type": "code",
   "execution_count": 9,
   "metadata": {
    "nbpresent": {
     "id": "32d16d88-2720-43ad-8c59-e123919dc44b"
    }
   },
   "outputs": [
    {
     "name": "stdout",
     "output_type": "stream",
     "text": [
      "El primer elemento de la lista es: Juan\n",
      "Los elementos en la posición 2 hasta el 4 son: [['H', 3], False]\n",
      "El segundo elemento de la lista en la posición 2: 3\n",
      "Los dos últimos elementos [False, 4.8]\n"
     ]
    }
   ],
   "source": [
    "print(\"El primer elemento de la lista es:\",J[0])\n",
    "print(\"Los elementos en la posición 2 hasta el 4 son:\",J[2:4])\n",
    "print(\"El segundo elemento de la lista en la posición 2:\",J[2][1])\n",
    "print(\"Los dos últimos elementos\",J[-2:])"
   ]
  },
  {
   "cell_type": "markdown",
   "metadata": {},
   "source": [
    "Las listas pueden sumarse entre ellas o pueden multiplicarse por un escalar. También se puede usar el operador *in* para saber si un elemento está contenido en la lista."
   ]
  },
  {
   "cell_type": "code",
   "execution_count": 10,
   "metadata": {},
   "outputs": [
    {
     "name": "stdout",
     "output_type": "stream",
     "text": [
      "['Juan', 89, ['H', 3], False, 4.8, 'True', 'Kelly']\n",
      "['True', 'Kelly', 'True', 'Kelly']\n",
      "False\n"
     ]
    }
   ],
   "source": [
    "print(J+K)\n",
    "print(K*2)\n",
    "print('Juan' in K)"
   ]
  },
  {
   "cell_type": "markdown",
   "metadata": {
    "nbpresent": {
     "id": "8862c192-da26-45fd-93fe-fcde77fbecfb"
    }
   },
   "source": [
    "#### Métodos de las listas:\n",
    "\n",
    "Algunos métodos útiles para las listas son:"
   ]
  },
  {
   "cell_type": "code",
   "execution_count": 11,
   "metadata": {},
   "outputs": [
    {
     "name": "stdout",
     "output_type": "stream",
     "text": [
      "El elemento False aparece 1 veces\n",
      "Agregamos la lista K a la lista J: ['Juan', 89, ['H', 3], False, 4.8, ['True', 'Kelly']]\n",
      "La lista ordenada es: ['Kelly', 'True']\n",
      "La lista en orden inverso al original es [['Kelly', 'True'], 4.8, False, ['H', 3], 89, 'Juan']\n"
     ]
    }
   ],
   "source": [
    "#count\n",
    "print(\"El elemento False aparece\",J.count(False),\"veces\")\n",
    "# append, Note que el resultado de append es diferente al de sumar las dos listas\n",
    "J.append(K)\n",
    "print(\"Agregamos la lista K a la lista J:\",J)\n",
    "# Sort\n",
    "K.sort()\n",
    "print(\"La lista ordenada es:\",K)\n",
    "# reverse\n",
    "J.reverse()\n",
    "print(\"La lista en orden inverso al original es\",J)"
   ]
  },
  {
   "cell_type": "markdown",
   "metadata": {
    "nbpresent": {
     "id": "f4c0fed4-90b6-4645-b10b-49851900c7f8"
    }
   },
   "source": [
    "### Diccionarios\n",
    "\n",
    "Los diccionarios son conjuntos de elementos compuestos por parejas de un nombre (*key*) y su contenido (*value*), separados usando el símbolo de dos puntos $:$. Los diccionarios se definen usando llaves {} y sus elementos de un  se separan por comas. El nombre debe ser texto y los contenidos pueden ser números, texto, tuplas, listas, o diccionarios"
   ]
  },
  {
   "cell_type": "code",
   "execution_count": 12,
   "metadata": {
    "collapsed": true,
    "nbpresent": {
     "id": "12bc68b5-ff64-4f5f-a28a-cffb0149cc97"
    }
   },
   "outputs": [],
   "source": [
    "D = {'nombre':'Juan',\n",
    "     'apellidos':{'paterno':'Santos','materno':'Ochoa'},\n",
    "     'edad':20,}"
   ]
  },
  {
   "cell_type": "markdown",
   "metadata": {
    "nbpresent": {
     "id": "6acf2383-edc6-4ef3-a8b4-c112fda69af1"
    }
   },
   "source": [
    "Una gran diferencia entre los diccionarios y las listas, es que los primeros se indexan con los nombres definidos, mientras que las listas con números:"
   ]
  },
  {
   "cell_type": "code",
   "execution_count": 13,
   "metadata": {
    "nbpresent": {
     "id": "7c3abc69-ec63-4afd-a1e0-55dbe964caa6"
    }
   },
   "outputs": [
    {
     "name": "stdout",
     "output_type": "stream",
     "text": [
      "20\n",
      "Ochoa\n"
     ]
    }
   ],
   "source": [
    "print(D['edad'])\n",
    "print(D['apellidos']['materno'])"
   ]
  },
  {
   "cell_type": "markdown",
   "metadata": {},
   "source": [
    "No puede repetirse un *key* en un mismo diccionario. Para agregar un nuevo valor al diccionario, o reemplazar uno existente, solo hace falta asignarlo."
   ]
  },
  {
   "cell_type": "code",
   "execution_count": 14,
   "metadata": {},
   "outputs": [
    {
     "name": "stdout",
     "output_type": "stream",
     "text": [
      "{'nombre': 'Juan', 'apellidos': {'paterno': 'Santos', 'materno': 'Ochoa'}, 'edad': 20}\n"
     ]
    }
   ],
   "source": [
    "D['nombre2']:'Javier'\n",
    "print(D)"
   ]
  },
  {
   "cell_type": "markdown",
   "metadata": {},
   "source": [
    "Los diccionarios no pueden sumarse ni multiplicarse. "
   ]
  },
  {
   "cell_type": "markdown",
   "metadata": {
    "nbpresent": {
     "id": "37fd9aa6-54ae-4281-a9e3-471695e75549"
    }
   },
   "source": [
    "### Conjuntos\n",
    "Los conjuntos son arreglos de elementos separados por comas. A diferencia de las listas, los conjuntos solo se quedan con elementos únicos. Se pueden construir usando llaves {} o con el constructor $set()$. "
   ]
  },
  {
   "cell_type": "code",
   "execution_count": 15,
   "metadata": {
    "nbpresent": {
     "id": "b9ddf778-f2b3-4be1-91cb-7c28d3e9f7bb"
    }
   },
   "outputs": [
    {
     "name": "stdout",
     "output_type": "stream",
     "text": [
      "{False, 4, 7, 'a', 'f'}\n",
      "{'1', 1, 'a', 0}\n"
     ]
    }
   ],
   "source": [
    "L2 = ['a',1,True,'1',0]\n",
    "C1 = {'f','a',4,7,False}\n",
    "C2 = set(L2)\n",
    "print(C1)\n",
    "print(C2)"
   ]
  },
  {
   "cell_type": "markdown",
   "metadata": {},
   "source": [
    "Con los conjuntos se pueden hacer operaciones de unión e intersección"
   ]
  },
  {
   "cell_type": "code",
   "execution_count": 16,
   "metadata": {},
   "outputs": [
    {
     "name": "stdout",
     "output_type": "stream",
     "text": [
      "La unión de los conjuntos C1 y C2 es: {False, 1, 4, 7, '1', 'a', 'f'}\n",
      "La intersección de los conjuntos C1 y C2 es: {'f', 4, 7}\n"
     ]
    }
   ],
   "source": [
    "print(\"La unión de los conjuntos C1 y C2 es:\",C1.union(C2))\n",
    "print(\"La intersección de los conjuntos C1 y C2 es:\",C1-C2)"
   ]
  },
  {
   "cell_type": "markdown",
   "metadata": {},
   "source": [
    "## Funciones incluidas importantes\n",
    "Python tiene algunas funciones incluidas o *built-in* que son muy útiles para hacer operaciones. Entre algunas de las que considero más útiles están:\n",
    "```python\n",
    "type(A) # retorna el tipo de objeto que es A\n",
    "len(A) # retorna el número de elementos que contiene el objeto A\n",
    "input() # permite que el usuario ingrese texto\n",
    "sum(A) # Suma todos los elementos de la lista A, si son números\n",
    "max(A) # retorna el valor máximo de la lista A\n",
    "min(A) # retorna el valor mínimo de la lista A\n",
    "range(start,end) # crea una lista con elementos desde start hasta end\n",
    "all(A) # retorna True solo si todos los elementos de la lista son True, en caso contrario, retorna False\n",
    "any(A) # retorna False solo si todos los elementos de la lista son False, en caso contrario, retorna True\n",
    "abs(a) # Retorna el valor absoluto del número a\n",
    "round(a) # redondea el valor del número a\n",
    "```\n",
    "Pueden ver todas las funciones *built-in* [aquí](https://docs.python.org/3/library/functions.html#int)"
   ]
  },
  {
   "cell_type": "code",
   "execution_count": 17,
   "metadata": {},
   "outputs": [
    {
     "data": {
      "text/plain": [
       "(6, True, False, 2, 22, dict, 8, 4)"
      ]
     },
     "execution_count": 17,
     "metadata": {},
     "output_type": "execute_result"
    }
   ],
   "source": [
    "len(J), any(K), all(J), min(a,b,a*b), max(a,b*a+b),type(D), abs(-8), round(3.56)"
   ]
  },
  {
   "cell_type": "markdown",
   "metadata": {},
   "source": [
    "## TAREA\n",
    "\n",
    "1. Cree una lista que contenga los siguientes valores:\n",
    "```python\n",
    "'cide', 55, 'python', True, {'libro':'100 años de soledad','autor':'gabriel garcia marquez', 24}\n",
    "```\n",
    "2. Cree un nuevo elemento que sea igual a la suma del elemento 0 de la lista + el nombre del libro que está en el diccionario.\n",
    "3. Use la función apropiada para poner en mayúsculas las iniciales del nombre del autor.\n",
    "4. Cree un nuevo elemento que sea igual a la suma de las 3 últimas letras de todos los elementos que son texto.\n",
    "\n",
    "5. Utilize la función print() y el método .count() para mostrar cuántas veces aparece cada vocal en un texto. El resultado debe ser algo así:\n",
    "```python\n",
    "En 'acido desoxirribonucleico' la letra 'a' aparece 1 veces\n",
    "En 'acido desoxirribonucleico' la letra 'e' aparece 2 veces\n",
    "En 'acido desoxirribonucleico' la letra 'i' aparece 4 veces\n",
    "etc..\n",
    "```"
   ]
  },
  {
   "cell_type": "markdown",
   "metadata": {},
   "source": [
    "Para profundizar más sobre estos temas, recomiendo los siguientes recursos:\n",
    "* [Automate the boring stuff](https://automatetheboringstuff.com/)\n",
    "* [Python for Data Analysis](http://shop.oreilly.com/product/0636920023784.do)\n",
    "* [Quantitative economics with Python](https://lectures.quantecon.org/py/)\n",
    "* [Python for everybody (Curso online)](https://es.coursera.org/specializations/python)\n",
    "* [Python path DataCamp (curso online)](https://www.datacamp.com/tracks/python-programming)\n"
   ]
  }
 ],
 "metadata": {
  "kernelspec": {
   "display_name": "Python3",
   "language": "python",
   "name": "python3"
  },
  "language_info": {
   "codemirror_mode": {
    "name": "ipython",
    "version": 3
   },
   "file_extension": ".py",
   "mimetype": "text/x-python",
   "name": "python",
   "nbconvert_exporter": "python",
   "pygments_lexer": "ipython3",
   "version": "3.6.1"
  },
  "nbpresent": {
   "slides": {
    "0aa2345a-46cd-4e1a-8beb-97af62703f8c": {
     "id": "0aa2345a-46cd-4e1a-8beb-97af62703f8c",
     "prev": "6a1e62f6-8d6f-4210-b3e0-59fb1ef6a2da",
     "regions": {
      "2715b07a-f9db-4897-9442-412653799195": {
       "attrs": {
        "height": 0.8,
        "width": 0.8,
        "x": 0.1,
        "y": 0.1
       },
       "content": {
        "cell": "1434ea8c-23c5-4696-9948-9f4f5c0747c9",
        "part": "whole"
       },
       "id": "2715b07a-f9db-4897-9442-412653799195"
      }
     }
    },
    "18513ca0-f52c-4fcb-93fe-4f9bb816ea85": {
     "id": "18513ca0-f52c-4fcb-93fe-4f9bb816ea85",
     "prev": "bac2d47d-0f9e-4458-bda3-813682d0dfb6",
     "regions": {
      "70eb626d-a89d-424e-998c-a7ffc4b6e226": {
       "attrs": {
        "height": 0.8,
        "width": 0.8,
        "x": 0.1,
        "y": 0.1
       },
       "content": {
        "cell": "fa21c92e-d69f-4ad0-9ce2-853f11d55eb1",
        "part": "whole"
       },
       "id": "70eb626d-a89d-424e-998c-a7ffc4b6e226"
      }
     }
    },
    "252b7fa7-81b3-4e1a-aec8-1ed9e68ef546": {
     "id": "252b7fa7-81b3-4e1a-aec8-1ed9e68ef546",
     "prev": "ab4e6901-d3f3-4d5c-8044-6af4063ae1cb",
     "regions": {
      "5adc70ac-d550-4cc6-a030-4bb4e3713f4a": {
       "attrs": {
        "height": 0.8,
        "width": 0.8,
        "x": 0.1,
        "y": 0.1
       },
       "content": {
        "cell": "12bc68b5-ff64-4f5f-a28a-cffb0149cc97",
        "part": "whole"
       },
       "id": "5adc70ac-d550-4cc6-a030-4bb4e3713f4a"
      }
     }
    },
    "263d58ed-b8a5-4018-8b93-7d5f8179b2ac": {
     "id": "263d58ed-b8a5-4018-8b93-7d5f8179b2ac",
     "prev": "7920af9f-921e-4a4d-a2a5-0ba10a181a0f",
     "regions": {
      "96879449-8ace-4f85-ad17-c5aead471581": {
       "attrs": {
        "height": 0.8,
        "width": 0.8,
        "x": 0.1,
        "y": 0.1
       },
       "content": {
        "cell": "1b199828-1e4d-4aaf-b837-57127d66af8e",
        "part": "whole"
       },
       "id": "96879449-8ace-4f85-ad17-c5aead471581"
      }
     }
    },
    "33cbc714-2904-4545-bb31-3c5d76920bc2": {
     "id": "33cbc714-2904-4545-bb31-3c5d76920bc2",
     "prev": "9cd7ad2b-10e2-4189-92b4-d8c9ea5cd237",
     "regions": {
      "ef6d9f0f-54ca-4fe4-9cd5-099067553213": {
       "attrs": {
        "height": 0.8,
        "width": 0.8,
        "x": 0.1,
        "y": 0.1
       },
       "content": {
        "cell": "a8e7892e-e137-424f-ba0a-e39ec1817e92",
        "part": "whole"
       },
       "id": "ef6d9f0f-54ca-4fe4-9cd5-099067553213"
      }
     }
    },
    "42b0e211-c07f-465b-9f02-60fd66835840": {
     "id": "42b0e211-c07f-465b-9f02-60fd66835840",
     "prev": "79700dbd-98e9-47a2-abbd-ffd86b065dde",
     "regions": {
      "daef21ba-dc32-4bc6-8e78-bd4c3fa690e3": {
       "attrs": {
        "height": 0.8,
        "width": 0.8,
        "x": 0.1,
        "y": 0.1
       },
       "content": {
        "cell": "febba9e0-08a8-4653-bfc8-db4b7b510b88",
        "part": "whole"
       },
       "id": "daef21ba-dc32-4bc6-8e78-bd4c3fa690e3"
      }
     }
    },
    "4fd769dd-3dc7-4905-b385-ac26f050cf3b": {
     "id": "4fd769dd-3dc7-4905-b385-ac26f050cf3b",
     "prev": "a17a48d3-63de-407c-aff5-df311ade3012",
     "regions": {
      "cf8b87b1-ed9e-434e-bd8d-fd00e2e15331": {
       "attrs": {
        "height": 0.8,
        "width": 0.8,
        "x": 0.1,
        "y": 0.1
       },
       "content": {
        "cell": "8862c192-da26-45fd-93fe-fcde77fbecfb",
        "part": "whole"
       },
       "id": "cf8b87b1-ed9e-434e-bd8d-fd00e2e15331"
      }
     }
    },
    "598e4d8b-455e-4a66-a691-f1a9547e7502": {
     "id": "598e4d8b-455e-4a66-a691-f1a9547e7502",
     "prev": "dcd2748d-3089-4679-81ef-3fb5c323875e",
     "regions": {
      "280a64e2-7754-43c4-aaf7-eb3199410595": {
       "attrs": {
        "height": 0.8,
        "width": 0.8,
        "x": 0.1,
        "y": 0.1
       },
       "content": {
        "cell": "b9ddf778-f2b3-4be1-91cb-7c28d3e9f7bb",
        "part": "whole"
       },
       "id": "280a64e2-7754-43c4-aaf7-eb3199410595"
      }
     }
    },
    "6a1e62f6-8d6f-4210-b3e0-59fb1ef6a2da": {
     "id": "6a1e62f6-8d6f-4210-b3e0-59fb1ef6a2da",
     "prev": "42b0e211-c07f-465b-9f02-60fd66835840",
     "regions": {
      "1fcf03cb-87e1-4a6e-b784-70836bc23af8": {
       "attrs": {
        "height": 0.8,
        "width": 0.8,
        "x": 0.1,
        "y": 0.1
       },
       "content": {
        "cell": "c9f12f8b-1c84-4f02-95df-7c82b7ee3228",
        "part": "whole"
       },
       "id": "1fcf03cb-87e1-4a6e-b784-70836bc23af8"
      }
     }
    },
    "7920af9f-921e-4a4d-a2a5-0ba10a181a0f": {
     "id": "7920af9f-921e-4a4d-a2a5-0ba10a181a0f",
     "prev": null,
     "regions": {
      "02bf57c5-6e10-4b2e-9cb6-6c6de4fc95d2": {
       "attrs": {
        "height": 0.8,
        "width": 0.8,
        "x": 0.1,
        "y": 0.1
       },
       "content": {
        "cell": "a33a1be1-c8d1-4eca-b4c5-dab812c52550",
        "part": "whole"
       },
       "id": "02bf57c5-6e10-4b2e-9cb6-6c6de4fc95d2"
      }
     },
     "theme": null
    },
    "79700dbd-98e9-47a2-abbd-ffd86b065dde": {
     "id": "79700dbd-98e9-47a2-abbd-ffd86b065dde",
     "prev": "263d58ed-b8a5-4018-8b93-7d5f8179b2ac",
     "regions": {
      "8e700ae6-736f-4af2-a462-dbdf4aaebd6f": {
       "attrs": {
        "height": 0.8,
        "width": 0.8,
        "x": 0.1,
        "y": 0.1
       },
       "content": {
        "cell": "91dd76d3-98df-4a43-914d-d377792b7a39",
        "part": "whole"
       },
       "id": "8e700ae6-736f-4af2-a462-dbdf4aaebd6f"
      }
     }
    },
    "9cd7ad2b-10e2-4189-92b4-d8c9ea5cd237": {
     "id": "9cd7ad2b-10e2-4189-92b4-d8c9ea5cd237",
     "prev": "b12659ea-c9df-420e-94f0-a1fb140352db",
     "regions": {
      "28951877-15cf-4e49-b19f-f8cc33e237ae": {
       "attrs": {
        "height": 0.8,
        "width": 0.8,
        "x": 0.1,
        "y": 0.1
       },
       "content": {
        "cell": "cfa95e8a-48b4-426d-a270-f8bedc8c1dc5",
        "part": "whole"
       },
       "id": "28951877-15cf-4e49-b19f-f8cc33e237ae"
      }
     }
    },
    "a17a48d3-63de-407c-aff5-df311ade3012": {
     "id": "a17a48d3-63de-407c-aff5-df311ade3012",
     "prev": "33cbc714-2904-4545-bb31-3c5d76920bc2",
     "regions": {
      "1af095c2-d430-4dff-8c12-fa0aa834ba34": {
       "attrs": {
        "height": 0.8,
        "width": 0.8,
        "x": 0.1,
        "y": 0.1
       },
       "content": {
        "cell": "32d16d88-2720-43ad-8c59-e123919dc44b",
        "part": "whole"
       },
       "id": "1af095c2-d430-4dff-8c12-fa0aa834ba34"
      }
     }
    },
    "a7f54400-91c5-4c26-acc9-1dd235018a01": {
     "id": "a7f54400-91c5-4c26-acc9-1dd235018a01",
     "prev": "252b7fa7-81b3-4e1a-aec8-1ed9e68ef546",
     "regions": {
      "9bd607b2-b218-492d-82e8-7e3273b35451": {
       "attrs": {
        "height": 0.8,
        "width": 0.8,
        "x": 0.1,
        "y": 0.1
       },
       "content": {
        "cell": "6acf2383-edc6-4ef3-a8b4-c112fda69af1",
        "part": "whole"
       },
       "id": "9bd607b2-b218-492d-82e8-7e3273b35451"
      }
     }
    },
    "ab4e6901-d3f3-4d5c-8044-6af4063ae1cb": {
     "id": "ab4e6901-d3f3-4d5c-8044-6af4063ae1cb",
     "prev": "4fd769dd-3dc7-4905-b385-ac26f050cf3b",
     "regions": {
      "4a50d2c3-717f-45b3-ba88-a5036e8463df": {
       "attrs": {
        "height": 0.8,
        "width": 0.8,
        "x": 0.1,
        "y": 0.1
       },
       "content": {
        "cell": "f4c0fed4-90b6-4645-b10b-49851900c7f8",
        "part": "whole"
       },
       "id": "4a50d2c3-717f-45b3-ba88-a5036e8463df"
      }
     }
    },
    "b12659ea-c9df-420e-94f0-a1fb140352db": {
     "id": "b12659ea-c9df-420e-94f0-a1fb140352db",
     "prev": "18513ca0-f52c-4fcb-93fe-4f9bb816ea85",
     "regions": {
      "d174f353-bcf3-46e5-bd8a-b7011eb562bc": {
       "attrs": {
        "height": 0.8,
        "width": 0.8,
        "x": 0.1,
        "y": 0.1
       },
       "content": {
        "cell": "924fbfec-5c04-4f5b-89e2-a6162fafaa05",
        "part": "whole"
       },
       "id": "d174f353-bcf3-46e5-bd8a-b7011eb562bc"
      }
     }
    },
    "bac2d47d-0f9e-4458-bda3-813682d0dfb6": {
     "id": "bac2d47d-0f9e-4458-bda3-813682d0dfb6",
     "prev": "0aa2345a-46cd-4e1a-8beb-97af62703f8c",
     "regions": {
      "e62de9dc-56e7-47ae-a0a2-d1de20047863": {
       "attrs": {
        "height": 0.8,
        "width": 0.8,
        "x": 0.1,
        "y": 0.1
       },
       "content": {
        "cell": "6cd3f4b6-92c2-4746-b1fd-75760f192c25",
        "part": "whole"
       },
       "id": "e62de9dc-56e7-47ae-a0a2-d1de20047863"
      }
     }
    },
    "dcd2748d-3089-4679-81ef-3fb5c323875e": {
     "id": "dcd2748d-3089-4679-81ef-3fb5c323875e",
     "prev": "f4b4b992-12c6-4624-aa15-7312aee75aa8",
     "regions": {
      "56ae914f-619d-4f82-8615-de46596669c5": {
       "attrs": {
        "height": 0.8,
        "width": 0.8,
        "x": 0.1,
        "y": 0.1
       },
       "content": {
        "cell": "37fd9aa6-54ae-4281-a9e3-471695e75549",
        "part": "whole"
       },
       "id": "56ae914f-619d-4f82-8615-de46596669c5"
      }
     }
    },
    "f4b4b992-12c6-4624-aa15-7312aee75aa8": {
     "id": "f4b4b992-12c6-4624-aa15-7312aee75aa8",
     "prev": "a7f54400-91c5-4c26-acc9-1dd235018a01",
     "regions": {
      "22afa098-15a0-4003-aae9-bc8ea306733a": {
       "attrs": {
        "height": 0.8,
        "width": 0.8,
        "x": 0.1,
        "y": 0.1
       },
       "content": {
        "cell": "7c3abc69-ec63-4afd-a1e0-55dbe964caa6",
        "part": "whole"
       },
       "id": "22afa098-15a0-4003-aae9-bc8ea306733a"
      }
     }
    }
   },
   "themes": {
    "default": "d3647b69-0294-47a2-ac90-4302a6c7efcd",
    "theme": {}
   }
  }
 },
 "nbformat": 4,
 "nbformat_minor": 1
}
