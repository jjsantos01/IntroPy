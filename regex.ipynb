{
 "cells": [
  {
   "cell_type": "markdown",
   "metadata": {},
   "source": [
    "# Expresiones regulares\n",
    "\n",
    "Una expresion regular (regex) es una conjunto de caracteres que sigue una sintaxis determinada para encontrar coincidencias en cadenas de texto. Con las regex podemos obtener ciertos patrones dentro de un texto, por ejemplo, podemos buscar si hay nombres propios, fechas, cantidades de medida y otro tipo de información que usualmente siguen ciertas reglas gramaticales o de escritura.\n",
    "\n",
    "La sintaxis de las regex se siguen por ciertas reglas o expresiones que funcionan de manera más o menos igual en varios lenguajes de programación populares. A continuación veremos cómo funcionan las regex y cuáles son las principales expresiones utilizadas."
   ]
  },
  {
   "cell_type": "code",
   "execution_count": 1,
   "metadata": {},
   "outputs": [
    {
     "data": {
      "text/html": [
       "<style>.container { width:90% !important; }</style>"
      ],
      "text/plain": [
       "<IPython.core.display.HTML object>"
      ]
     },
     "metadata": {},
     "output_type": "display_data"
    }
   ],
   "source": [
    "## Importamos la libreria re\n",
    "from IPython.core.display import display, HTML\n",
    "display(HTML(\"<style>.container { width:90% !important; }</style>\"))\n",
    "import re"
   ]
  },
  {
   "cell_type": "markdown",
   "metadata": {},
   "source": [
    "La librería `re` tiene varios métodos, pero en este tutorial solo usaremos el método `re.findall` que nos regresa una lista con todas las coincidencias encontradas.\n",
    "\n",
    "Para usar la librería necesitamos suministrar un patrón y un texto.\n",
    "```{python}\n",
    "re.findall(patron,texto)\n",
    "```\n",
    "El patrón es un conjunto de caracteres con la sintaxis de expresiones regulares que indica los patrones que queremos extraer del texto. El patrón es sensible a mayúsculas.\n",
    "\n",
    "En Python, el texto se indica añadiendo comillas simples 'prueba', comillas dobles \"prueba\" o comillas triples, para el caso de textos multilinea:\n",
    " ```python\n",
    "'prueba'\n",
    "\"prueba\"\n",
    "'''prue\n",
    "ba'''\n",
    " \n",
    " ```"
   ]
  },
  {
   "cell_type": "code",
   "execution_count": 2,
   "metadata": {},
   "outputs": [
    {
     "data": {
      "text/plain": [
       "['E', 'P']"
      ]
     },
     "execution_count": 2,
     "metadata": {},
     "output_type": "execute_result"
    }
   ],
   "source": [
    "##ejemplo\n",
    "patron = r'[A-Z]'\n",
    "texto = 'Este es un texto de Prueba' \n",
    "re.findall(patron,texto)"
   ]
  },
  {
   "cell_type": "markdown",
   "metadata": {},
   "source": [
    "En el ejemplo anterior, el patrón `[A-Z]` es una expresión regular para indicar que buscamos las letras de la A a la Z, en mayúsculas. En Python, añadimos la letra `r` para indicar que es un raw string y así evitar tener que poner un \\ antes de algunos caracteres especiales."
   ]
  },
  {
   "cell_type": "markdown",
   "metadata": {},
   "source": [
    "## Buscando patrones\n",
    "El uso más frecuente de las regex es encontrar patrones dentro de un texto. En el caso más básico, podemos crear un patrón que busque una serie de caracteres:"
   ]
  },
  {
   "cell_type": "code",
   "execution_count": 17,
   "metadata": {},
   "outputs": [
    {
     "name": "stdout",
     "output_type": "stream",
     "text": [
      "['e', 'e', 'e', 'e', 'e']\n"
     ]
    }
   ],
   "source": [
    "patron = r'e'\n",
    "texto = 'Este es un texto de Prueba' \n",
    "print(re.findall(patron,texto))"
   ]
  },
  {
   "cell_type": "markdown",
   "metadata": {},
   "source": [
    "En este ejemplo buscamos todas las apariciones de la letra `'e'`. Esta expresión solo nos regresará el caracter que buscamos por cada una de las veces que lo encontró en el texto, **es importante notar que no nos regresará la palabra de la cual proviene.**"
   ]
  },
  {
   "cell_type": "code",
   "execution_count": 14,
   "metadata": {},
   "outputs": [
    {
     "name": "stdout",
     "output_type": "stream",
     "text": [
      "['texto', 'texto']\n"
     ]
    }
   ],
   "source": [
    "patron = r'texto'\n",
    "texto = 'Este texto es un pretexto para hacer una prueba'\n",
    "print(re.findall(patron,texto))"
   ]
  },
  {
   "cell_type": "markdown",
   "metadata": {},
   "source": [
    "En este ejemplo, al buscar los caracteres 'texto', nos devuelve cualquier coincidencia que encuentre, sin importar si los caracteres conforman toda una palabra o solo hacen parte de ella. **Más adelante veremos cómo acotar la búsqueda a palabras enteras**"
   ]
  },
  {
   "cell_type": "markdown",
   "metadata": {},
   "source": [
    "### Clases de caracteres\n",
    "\n",
    "Hay varias clases de caracteres que usualmente nos interesan más, como por ejemplo, los caracteres **alfabéticos**, los **numéricos** o los **espacios en blanco**. En las expresiones regulares hay una forma de abreviar la búsqueda segun el tipo de caracter:\n",
    "\n",
    "* \\w  caracteres alfanuméricos, es decir, los caracteres a-z, A-Z, 0-9 y también los guiones bajos _\n",
    "* \\d caracteres numéricos, es decir 0-9\n",
    "* \\s espacio en blanco, incluyendo tabulaciones y saltos de linea\n",
    "* si colocamos la letra de la clase de caracter en mayúscula, entonces la regex busca el patrón contrario, es decir, \\W busca todos los carateres que no son alfanuméricos, \\D todos los que no son números y \\S todos los que no son espacios en blanco"
   ]
  },
  {
   "cell_type": "code",
   "execution_count": 24,
   "metadata": {},
   "outputs": [
    {
     "name": "stdout",
     "output_type": "stream",
     "text": [
      "['j', 'j', 's', 'a', 'n', 't', 'o', 's', '0', '1', 'c', 'i', 'd', 'e', 'e', 'd', 'u']\n"
     ]
    }
   ],
   "source": [
    "patron = r'\\w' # Todos los caracteres alfanuméricos\n",
    "texto = 'jjsantos01@cide.edu'\n",
    "print(re.findall(patron,texto))"
   ]
  },
  {
   "cell_type": "code",
   "execution_count": 22,
   "metadata": {},
   "outputs": [
    {
     "name": "stdout",
     "output_type": "stream",
     "text": [
      "['0', '1']\n"
     ]
    }
   ],
   "source": [
    "patron = r'\\d' # Todos los caracteres numéricos\n",
    "texto = 'jjsantos01@cide.edu'\n",
    "print(re.findall(patron,texto))"
   ]
  },
  {
   "cell_type": "code",
   "execution_count": 25,
   "metadata": {},
   "outputs": [
    {
     "name": "stdout",
     "output_type": "stream",
     "text": [
      "['j', 'j', 's', 'a', 'n', 't', 'o', 's', '@', 'c', 'i', 'd', 'e', '.', 'e', 'd', 'u']\n"
     ]
    }
   ],
   "source": [
    "patron = r'\\D' # Todos los caracteres no numéricos\n",
    "texto = 'jjsantos01@cide.edu'\n",
    "print(re.findall(patron,texto))"
   ]
  },
  {
   "cell_type": "markdown",
   "metadata": {},
   "source": [
    "### Cuantificando caracteres\n",
    "En los ejemplo anteriores solo buscamos un caracter, podemos buscar más de uno si ponemos varios juntos:\n"
   ]
  },
  {
   "cell_type": "code",
   "execution_count": 65,
   "metadata": {},
   "outputs": [
    {
     "name": "stdout",
     "output_type": "stream",
     "text": [
      "['os0']\n"
     ]
    }
   ],
   "source": [
    "patron = r'\\w\\w\\d' # dos alfanumericos y un número\n",
    "texto = 'jjsantos01@cide.edu'\n",
    "print(re.findall(patron,texto))"
   ]
  },
  {
   "cell_type": "markdown",
   "metadata": {},
   "source": [
    "* también podemos usar llaves $\\{m,n\\}$ junto a un caracter para especificar un número de ocurrencias, donde $m$ es el mínimo de ocurrencias y $n$ el máximo para un caracter. \n",
    "* Si solo especificamos una cantidad $\\{m\\}$ quiere decir que buscamos exactamente $m$ caracteres.\n",
    "* $\\{m,\\}$ : mínimo $m$ caracteres.\n",
    "* $\\{,m\\}$ :  máximo $m$ caracteres."
   ]
  },
  {
   "cell_type": "code",
   "execution_count": 36,
   "metadata": {},
   "outputs": [
    {
     "name": "stdout",
     "output_type": "stream",
     "text": [
      "['os01']\n"
     ]
    }
   ],
   "source": [
    "patron = r'\\w{2}\\d{2}' # dos alfanumericos y dos númericos\n",
    "texto = 'jjsantos01@cide.edu'\n",
    "print(re.findall(patron,texto))"
   ]
  },
  {
   "cell_type": "code",
   "execution_count": 37,
   "metadata": {},
   "outputs": [
    {
     "name": "stdout",
     "output_type": "stream",
     "text": [
      "['jjsa', 'ntos', '01', 'cide', 'edu']\n"
     ]
    }
   ],
   "source": [
    "patron = r'\\w{2,4}' # entre 2 y 4 caracteres alfanumericos\n",
    "texto = 'jjsantos01@cide.edu'\n",
    "print(re.findall(patron,texto))"
   ]
  },
  {
   "cell_type": "markdown",
   "metadata": {},
   "source": [
    "#### Operadores \"Codiciosos\"  (greedy match)\n",
    "\n",
    "Estos son operadores que se colocan junto a un caracter y también ayudan a definir la cantidad de caracteres que se desea buscar:\n",
    "* $+$ : encuentra caracteres similares al de la izquierda 1 o más veces\n",
    "* $*$ : encuentra caracteres similares al de la izquierda 0 o más veces\n",
    "* $?$ : encuentra caracteres similares al de la izquierda 0 o 1 vez\n",
    "\n",
    "Estos son muy útiles para encontrar derivaciones de alguna palabra."
   ]
  },
  {
   "cell_type": "code",
   "execution_count": 68,
   "metadata": {},
   "outputs": [
    {
     "name": "stdout",
     "output_type": "stream",
     "text": [
      "['programado', 'programara', 'programas']\n"
     ]
    }
   ],
   "source": [
    "patron = r'programa\\w+' # todas las palabras que contienen programa y al menos un caracter alfanumerico\n",
    "texto = 'Este programa esta programado en el presupuesto y se programara tambien el proximo año con los demas programas'\n",
    "print(re.findall(patron,texto))"
   ]
  },
  {
   "cell_type": "code",
   "execution_count": 69,
   "metadata": {},
   "outputs": [
    {
     "name": "stdout",
     "output_type": "stream",
     "text": [
      "['programa', 'programado', 'programara', 'programas']\n"
     ]
    }
   ],
   "source": [
    "patron = r'programa\\w*' # todas las palabras que contienen programa e incluye también las que tienen más caracteres\n",
    "texto = 'Este programa esta programado en el presupuesto y se programara tambien el proximo año con los demas programas'\n",
    "print(re.findall(patron,texto))"
   ]
  },
  {
   "cell_type": "code",
   "execution_count": 70,
   "metadata": {},
   "outputs": [
    {
     "name": "stdout",
     "output_type": "stream",
     "text": [
      "['programa', 'programad', 'programar', 'programas']\n"
     ]
    }
   ],
   "source": [
    "patron = r'programa\\w?' # todas las palabras que contienen programa e incluye también las que tienen maximo un caracter mas\n",
    "texto = 'Este programa esta programado en el presupuesto y se programara tambien el proximo año con los demas programas'\n",
    "print(re.findall(patron,texto))"
   ]
  },
  {
   "cell_type": "markdown",
   "metadata": {},
   "source": [
    "#### Palabras\n",
    "Usamos la sequencia `\\b` para definir los límites iniciales o finales de una palabra:"
   ]
  },
  {
   "cell_type": "code",
   "execution_count": 76,
   "metadata": {},
   "outputs": [
    {
     "name": "stdout",
     "output_type": "stream",
     "text": [
      "['texto']\n"
     ]
    }
   ],
   "source": [
    "texto = 'Este texto es un pretexto para hacer una prueba con textos'\n",
    "patron = r'\\btexto\\b'\n",
    "print(re.findall(patron,texto))"
   ]
  },
  {
   "cell_type": "code",
   "execution_count": 77,
   "metadata": {},
   "outputs": [
    {
     "name": "stdout",
     "output_type": "stream",
     "text": [
      "['programa', 'programas']\n"
     ]
    }
   ],
   "source": [
    "texto = 'Este programa esta programado en el presupuesto y se programara tambien el proximo año con los demas programas'\n",
    "patron = r'\\bprograma\\w?\\b'\n",
    "print(re.findall(patron,texto))"
   ]
  },
  {
   "cell_type": "markdown",
   "metadata": {},
   "source": [
    "### Caracteres especiales"
   ]
  },
  {
   "cell_type": "markdown",
   "metadata": {},
   "source": [
    "* $.$ (punto) sirve como comodín para cualquier caracter, excepto terminadores de línea \\n. Si se quiere buscar literalmente un punto entonces debe anteponerse un backslash \\\\.\n",
    "* $A|B$ (barra vertical) encuentra la expresión A o B. Si A es encontrada primero, entonces no intenta buscar B.\n"
   ]
  },
  {
   "cell_type": "code",
   "execution_count": 88,
   "metadata": {},
   "outputs": [
    {
     "name": "stdout",
     "output_type": "stream",
     "text": [
      "['este', 'esta', 'en', 'el', 'esto', 'el']\n"
     ]
    }
   ],
   "source": [
    "texto = 'este programa esta programado en el presupuesto y se programara tambien el proximo año con los demas programas'\n",
    "patron = r'est.|\\be.\\b'\n",
    "print(re.findall(patron,texto))"
   ]
  },
  {
   "cell_type": "markdown",
   "metadata": {},
   "source": [
    "### Conjuntos de caracteres\n",
    "Se pueden usar corchetes $[ ]$ para buscar un conjunto de caracteres. Puede usarse de diferentes formas:\n",
    "* $[abc]$ Busca coincidencias con a,b o con c. No busca abc.\n",
    "* $[a-z]$ Busca caracteres de la a a la z, en minúsculuas\n",
    "* $[a-zA-Z0-9\\_]$ Busca caracteres de la a a la z, de la A a la Z, del 0 al 9 y guion bajo _ (igual a \\w)\n",
    "* $[\\hat{} abc]$ Busca todas las coincidencias que NO sean a,b o c\n"
   ]
  },
  {
   "cell_type": "code",
   "execution_count": 89,
   "metadata": {},
   "outputs": [
    {
     "name": "stdout",
     "output_type": "stream",
     "text": [
      "['este', 'esta']\n"
     ]
    }
   ],
   "source": [
    "texto = 'este programa esta programado en el presupuesto y se programara tambien el proximo año con los demas programas'\n",
    "patron = r'est[ae]'\n",
    "print(re.findall(patron,texto))"
   ]
  },
  {
   "cell_type": "code",
   "execution_count": 90,
   "metadata": {},
   "outputs": [
    {
     "name": "stdout",
     "output_type": "stream",
     "text": [
      "['esto']\n"
     ]
    }
   ],
   "source": [
    "texto = 'este programa esta programado en el presupuesto y se programara tambien el proximo año con los demas programas'\n",
    "patron = r'est[^ae]'\n",
    "print(re.findall(patron,texto))"
   ]
  },
  {
   "cell_type": "markdown",
   "metadata": {},
   "source": [
    "### Agrupaciones\n",
    "Se pueden usar paréntesis $()$ para agrupar varias expresiones, de esta manera junto con el caracter $|$, se pueden generar expresiones que busquen muchas combinaciones de términos.\n"
   ]
  },
  {
   "cell_type": "code",
   "execution_count": 104,
   "metadata": {},
   "outputs": [
    {
     "name": "stdout",
     "output_type": "stream",
     "text": [
      "[('venden', 'maiz'), ('compran', 'harina'), ('compran', 'maiz'), ('hacer', 'harina'), ('vender', 'tortillas')]\n"
     ]
    }
   ],
   "source": [
    "texto = 'En el mercado hay negocios donde venden maiz y compran harina. Quienes compran maiz ahora pueden hacer harina y despues vender tortillas más caras' \n",
    "patron = r'(compra\\w*|vende\\w*|hacer)\\s(maiz|harina|tortillas?)'\n",
    "print(re.findall(patron,texto))"
   ]
  },
  {
   "cell_type": "markdown",
   "metadata": {},
   "source": [
    "Pueden haber agrupaciones anidadas. Cada agrupación generará una entrada en la tupla del resultado. Si hay varias agrupaciones, si se quiere el resultado que incluya todas las demás debrá hacerse una agrupación de toda la expresión regular. Para evitar que el resultado de una agrupación se muestre hay que añadir $?:$ al inicio: $(?:exp)$"
   ]
  },
  {
   "cell_type": "code",
   "execution_count": 154,
   "metadata": {},
   "outputs": [
    {
     "name": "stdout",
     "output_type": "stream",
     "text": [
      "[('venden maiz', 'venden', 'maiz'), ('compran harina', 'compran', 'harina'), ('compran maiz', 'compran', 'maiz'), ('hacer harina', 'hacer', 'harina'), ('vender tortillas', 'vender', 'tortillas')]\n"
     ]
    }
   ],
   "source": [
    "texto = 'En el mercado hay negocios donde venden maiz y compran harina. Quienes compran maiz ahora pueden hacer harina y despues vender tortillas más caras' \n",
    "patron = r'((compra\\w*|vende\\w*|hacer)\\s(maiz|harina|tortillas?))'\n",
    "print(re.findall(patron,texto))"
   ]
  },
  {
   "cell_type": "code",
   "execution_count": 155,
   "metadata": {},
   "outputs": [
    {
     "name": "stdout",
     "output_type": "stream",
     "text": [
      "['venden maiz', 'compran harina', 'compran maiz', 'hacer harina', 'vender tortillas']\n"
     ]
    }
   ],
   "source": [
    "texto = 'En el mercado hay negocios donde venden maiz y compran harina. Quienes compran maiz ahora pueden hacer harina y despues vender tortillas más caras' \n",
    "patron = r'((?:compra\\w*|vende\\w*|hacer)\\s(?:maiz|harina|tortillas?))'\n",
    "print(re.findall(patron,texto))"
   ]
  },
  {
   "cell_type": "markdown",
   "metadata": {},
   "source": [
    "### Coincidencias anteriores y posteriores (lookbehind & lookahead)\n",
    "Se usan para generar una coincidencia, solo si se cumple cierta expresión antes o después.\n",
    "* $A(?=B)$ (lookahead) retorna la expresión A, solo si es seguida de B. No retorna B.\n",
    "* $(?<=B)A$ (lookbehind) retorna la expresión A, solo si es antecedida inmediatamente de B. No retorna B."
   ]
  },
  {
   "cell_type": "code",
   "execution_count": 109,
   "metadata": {},
   "outputs": [
    {
     "name": "stdout",
     "output_type": "stream",
     "text": [
      "['venden ', 'compran ']\n"
     ]
    }
   ],
   "source": [
    "texto = 'En el mercado hay negocios donde venden maiz y compran harina. Quienes compran maiz ahora pueden hacer harina y despues vender tortillas más caras' \n",
    "patron = r'\\w+ (?=maiz)' # retorna una palabra solo si después está la palabra maiz\n",
    "print(re.findall(patron,texto))"
   ]
  },
  {
   "cell_type": "code",
   "execution_count": 111,
   "metadata": {},
   "outputs": [
    {
     "name": "stdout",
     "output_type": "stream",
     "text": [
      "[' y', ' ahora']\n"
     ]
    }
   ],
   "source": [
    "texto = 'En el mercado hay negocios donde venden maiz y compran harina. Quienes compran maiz ahora pueden hacer harina y despues vender tortillas más caras' \n",
    "patron = r'(?<=maiz) \\w+' # retorna una palabra solo si antes está la palabra maiz\n",
    "print(re.findall(patron,texto))"
   ]
  },
  {
   "cell_type": "markdown",
   "metadata": {},
   "source": [
    "### Ejercicios\n",
    "1. Escriba una expresión regular que sirva para detectar toda una palabra si esta empieza por mayúscula. Pruebe su expresión en el siguiente texto: \n",
    "> \"La proxima semana, el equipo del LNPP CIDE visitara San Luis Potosi para presentar su nuevo proyecto. El lunes viajaran a SLP Nayeli Aguirre, Isabel Maya, Cristina Galindez y Eduardo Sojo. El joven Luis Rodrigo Gonzalez Vizuet se quedara haciendo guardia.\"\n",
    "2. Escriba una expresion regular que retorne los dígitos de un número de teléfono si este de la Ciudad de México, es decir si empieza con 55. Pueden ser números fijos (8 dígitos) o celulares (10 dígitos). Pruebe su expresión con el siguiente texto: \n",
    ">\"Tengo dos numeros de celular, el 475596325 y el 5534468559. El telefono de mi casa es 47896321 y el de mi oficina es 55412987, ext. 5524. El numero de mi cuenta de debito para depositos es 552385697\"\n",
    "3. Escriba una expresión regular para capturar solo el usuario de una dirección de correo, es decir, la parte antes del @, pero solo si es una cuenta de alumnos o trabajadores del cide, es decir, terminan en @alumnos.cide.edu o cide.edu. Pruebe su expresión usando el texto \n",
    ">\"Mi correo de trabajo es juan.santos@cide.edu, el de egresados es juan.santos@egresados.cide.edu. Cuando era estudiante tenia el de juan_santos@alumnos.cide y mi correo personal ha sido jjsantosochoa@outlook.com. Pueden consultarlos en la página www.cide.edu\"\n",
    "4. Escriba una expresión regular para detectar nombres propios, es decir si hay entre dos y cuatro palabras consecutivas que empiezan con mayúsculas y las siguientes letras son minúsculas. Pruebe su expresión en el siguiente texto: \n",
    "> \"La proxima semana, el equipo del LNPP CIDE visitara San Luis Potosi para presentar su nuevo proyecto. El lunes viajaran a SLP Nayeli Aguirre, Isabel Maya, Cristina Galindez y Eduardo Sojo. El joven Luis Rodrigo Gonzalez Vizuet se quedara haciendo guardia.\"\n"
   ]
  },
  {
   "cell_type": "markdown",
   "metadata": {
    "collapsed": true
   },
   "source": [
    "Pueden probar sus expresiones usando la página [regex101](https://regex101.com/).\n",
    "\n",
    "En [esta página](https://www.dataquest.io/blog/regex-cheatsheet/) encuentran un resumen de las expresiones regulares (en Python)."
   ]
  }
 ],
 "metadata": {
  "kernelspec": {
   "display_name": "Python3",
   "language": "python",
   "name": "python3"
  },
  "language_info": {
   "codemirror_mode": {
    "name": "ipython",
    "version": 3
   },
   "file_extension": ".py",
   "mimetype": "text/x-python",
   "name": "python",
   "nbconvert_exporter": "python",
   "pygments_lexer": "ipython3",
   "version": "3.6.1"
  }
 },
 "nbformat": 4,
 "nbformat_minor": 2
}
