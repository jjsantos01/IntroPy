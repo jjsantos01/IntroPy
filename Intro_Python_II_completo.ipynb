{
 "cells": [
  {
   "cell_type": "markdown",
   "metadata": {},
   "source": [
    "# Introducción a Pyhton II\n",
    "En este taller vamos a ver algunas funcionalidades que nos permitirán repetir iterativamente un proceso. También veremos cómo crear nuestras propias funciones.\n",
    "\n",
    "Al finalizar el taller estarás en capacidad de:\n",
    "* Generar procesos iterativos.\n",
    "* Hacer declaraciones condicionales.\n",
    "* Crear tus propias funciones.\n"
   ]
  },
  {
   "cell_type": "markdown",
   "metadata": {},
   "source": [
    "## Estructuras de control\n",
    "Las estructuras de control son procesos que nos ayudan a hacer tareas repetitivas y controlarlas. Las estructuras más usadas en Python son:\n",
    "```python\n",
    "for, while, if - else - elif\n",
    "```\n",
    "\n",
    "   ### for\n",
    "\n",
    "El comando ``` for``` sirve para ejecutar una tarea repetitiva en la que cambian uno o varios parámetros. Iremos por cada uno de los elementos guardados en un **objeto iterable** y ejecutaremos algún procedimiento en el que utilizamos el elemento.\n",
    "\n",
    "Ejemplo:"
   ]
  },
  {
   "cell_type": "code",
   "execution_count": 17,
   "metadata": {
    "collapsed": false
   },
   "outputs": [
    {
     "name": "stdout",
     "output_type": "stream",
     "text": [
      "0\n",
      "1\n",
      "2\n",
      "3\n",
      "4\n",
      "5\n",
      "6\n",
      "7\n",
      "8\n",
      "9\n"
     ]
    }
   ],
   "source": [
    "for i in range(10):\n",
    "    print(i)"
   ]
  },
  {
   "cell_type": "markdown",
   "metadata": {},
   "source": [
    "donde:\n",
    "* `i` es el parámetro que irá cambiando en cada ciclo.\n",
    "* `range(10)` es una función que genera una lista con elementos del 0 al 9. Este es el elemento iterable.\n",
    "* `print()` es la función que se aplicará a cada elemento `i`.\n",
    "\n",
    "La intuición es simple: a cada elemento `i` de la lista `range(10)` se le aplicará la función `print`\n",
    "\n",
    "Es importante notar la sintaxis del comando. Al final de la primera línea que define el `for` debe ir el símbolo $:$ y los elementos que van dentro del loop deben estar **indentados**, esto es con una tabulación (o 4 espacios simples).\n",
    "```python\n",
    "for i in range(10): \n",
    "    e = i**2\n",
    "    o = i**3\n",
    "    print(e+o)\n",
    "```\n",
    "\n",
    "Si el procedimiento que se va a ejecutar consiste en solo una línea de código, entonces el loop se puede hacer todo en una línea:\n",
    "```python\n",
    "for i in range(10): print(i**2)\n",
    "```"
   ]
  },
  {
   "cell_type": "markdown",
   "metadata": {},
   "source": [
    "### while\n",
    "Los loops while ejecutarán una acción mientras el resultado de una operación sea verdadero. Cuando su valor cambie a falso, el loop se detendrá. La sintaxis de un ```while``` es la siguiente:\n",
    "```python\n",
    "while condicion(x):\n",
    "    procedimiento(x)\n",
    "```\n",
    "donde:\n",
    "* condicion(x) es una operación que da como resultado un booleano. Si el resultado de la operación es ```True``` entonces el loop se ejecutará, si es ```False``` se detendrá.\n",
    "* procedimiento(x): es un conjunto de acciones que se ejecutarán si la condición es verdadera. Estas acciones deberán modificar el valor de x, sino el loop nunca se detendrá.\n",
    "\n",
    "Hay que utilizar con mucho cuidado los loops ```while``` porque si no están bien definidos pueden llevar a iteraciones infinitas."
   ]
  },
  {
   "cell_type": "code",
   "execution_count": 2,
   "metadata": {
    "collapsed": false
   },
   "outputs": [
    {
     "name": "stdout",
     "output_type": "stream",
     "text": [
      "10\n",
      "9\n",
      "8\n",
      "7\n",
      "6\n",
      "5\n"
     ]
    }
   ],
   "source": [
    "i = 10\n",
    "while i>=5: \n",
    "    print(i)\n",
    "    i -= 1"
   ]
  },
  {
   "cell_type": "markdown",
   "metadata": {
    "collapsed": true
   },
   "source": [
    "### if - elif - else\n",
    "\n",
    "Las declaraciones `if-else-elif` nos permiten ejecutar código de manera condicional, es decir, si se cumple cierta condición entonces ocurren ciertas acciones, sino entonces se ejecutan otras acciones.\n",
    "\n",
    "La sintaxis completa de una declaración `if-else-elif` es:\n",
    "\n",
    "```python\n",
    "if cond1(x):\n",
    "    accion1\n",
    "elif cond2(x):\n",
    "    accion2\n",
    "elif cond3(x):\n",
    "    accion3\n",
    "else:\n",
    "    accion4\n",
    "```\n",
    "donde `cond1(x)` es una operación que arroja un booleano. Si es `True`, entonces se ejecuta `accion1`, si es `False` entonces pasa a evaluar la siguiente condición, `cond2`. Si `cond2` es `True`, se ejecuta `accion2` y así sucesivamente va evaluando cada condición hasta llegar a `else`, donde se ejecutará accion4 si ninguna de las condiciones anteriores fue verdadera.\n",
    "\n",
    "No necesariamente debemos incluir todas las condiciones, podríamos incluir solo una condición:\n",
    "\n",
    "```python\n",
    "if cond1(x):\n",
    "    accion1\n",
    "```\n",
    "\n",
    "Una condición y una opción si no se cumple:\n",
    "```python\n",
    "if cond1(x):\n",
    "    accion1\n",
    "else:\n",
    "    accion4\n",
    "```\n",
    "Varias condiciones:\n",
    "```python\n",
    "if cond1(x):\n",
    "    accion1\n",
    "elif cond2(x):\n",
    "    accion2\n",
    "```\n",
    "\n"
   ]
  },
  {
   "cell_type": "code",
   "execution_count": 9,
   "metadata": {
    "collapsed": false
   },
   "outputs": [
    {
     "name": "stdout",
     "output_type": "stream",
     "text": [
      "Nada de lo anterior es verdad\n"
     ]
    }
   ],
   "source": [
    "if 'a'>'k':\n",
    "    print('Hola')\n",
    "elif 2*pow(0,1):\n",
    "    print(3*3)\n",
    "elif 'aaaa'.replace('a',''):\n",
    "    print('Esto es verdad')\n",
    "else:\n",
    "    print('Nada de lo anterior es verdad')"
   ]
  },
  {
   "cell_type": "markdown",
   "metadata": {},
   "source": [
    "También podemos usar las declaraciones `if-else` al definir una variable:"
   ]
  },
  {
   "cell_type": "code",
   "execution_count": 3,
   "metadata": {
    "collapsed": false
   },
   "outputs": [],
   "source": [
    "X = 1 if 'a'>'k' else '2'"
   ]
  },
  {
   "cell_type": "markdown",
   "metadata": {},
   "source": [
    "### Listas por comprensión\n",
    "\n",
    "Es una forma de definir listas usando iteraciones. Retomando el ejemplo anterior, podríamos construir una lista que contenga  los elementos del 0 al 9 elevados al cuadrado de dos formas:"
   ]
  },
  {
   "cell_type": "code",
   "execution_count": 1,
   "metadata": {
    "collapsed": false
   },
   "outputs": [
    {
     "name": "stdout",
     "output_type": "stream",
     "text": [
      "[0, 1, 4, 9, 16, 25, 36, 49, 64]\n"
     ]
    }
   ],
   "source": [
    "S = [] # primero defino una lista vacía donde voy a guardar los elementos\n",
    "for i in range(9):\n",
    "    S += [i**2] # en cada ciclo agrego a la lista S el elemento i al cuadrado.\n",
    "print(S)"
   ]
  },
  {
   "cell_type": "code",
   "execution_count": 2,
   "metadata": {
    "collapsed": false
   },
   "outputs": [
    {
     "data": {
      "text/plain": [
       "[[0, 0, 0],\n",
       " [1, 1, 1],\n",
       " [2, 4, 8],\n",
       " [3, 9, 27],\n",
       " [4, 16, 64],\n",
       " [5, 25, 125],\n",
       " [6, 36, 216],\n",
       " [7, 49, 343],\n",
       " [8, 64, 512],\n",
       " [9, 81, 729]]"
      ]
     },
     "execution_count": 2,
     "metadata": {},
     "output_type": "execute_result"
    }
   ],
   "source": [
    "# usando listas por comprensión\n",
    "[[i,i**2,i**3] for i in range(10)]"
   ]
  },
  {
   "cell_type": "markdown",
   "metadata": {},
   "source": [
    "* En las listas por comprensión definimos el loop dentro de corchetes $\\mathbf{[}$ $\\mathbf{]}$. Colocamos primero la función que se aplicará a cada elemento y después el loop.\n",
    "\n",
    "* También podríamos hacer una lista de diccionarios usando listas por comprensión:"
   ]
  },
  {
   "cell_type": "code",
   "execution_count": 10,
   "metadata": {
    "collapsed": false
   },
   "outputs": [
    {
     "data": {
      "text/plain": [
       "[{'cuadrado': 0, 'lineal': 0},\n",
       " {'cuadrado': 1, 'lineal': 1},\n",
       " {'cuadrado': 4, 'lineal': 2},\n",
       " {'cuadrado': 9, 'lineal': 3},\n",
       " {'cuadrado': 16, 'lineal': 4},\n",
       " {'cuadrado': 25, 'lineal': 5},\n",
       " {'cuadrado': 36, 'lineal': 6},\n",
       " {'cuadrado': 49, 'lineal': 7},\n",
       " {'cuadrado': 64, 'lineal': 8},\n",
       " {'cuadrado': 81, 'lineal': 9}]"
      ]
     },
     "execution_count": 10,
     "metadata": {},
     "output_type": "execute_result"
    }
   ],
   "source": [
    "D2=[{'lineal':i,'cuadrado':i**2} for i in range(10)]\n",
    "D2"
   ]
  },
  {
   "cell_type": "markdown",
   "metadata": {},
   "source": [
    "* Podemos hacer loops anidados\n",
    "* Podemos agregar condicional ```if```"
   ]
  },
  {
   "cell_type": "code",
   "execution_count": 13,
   "metadata": {
    "collapsed": false
   },
   "outputs": [
    {
     "data": {
      "text/plain": [
       "['A1', 'A3', 'B1', 'B3', 'C1', 'C3']"
      ]
     },
     "execution_count": 13,
     "metadata": {},
     "output_type": "execute_result"
    }
   ],
   "source": [
    "[x+str(y) for x in ['A','B','C'] for y in [1,2,3] if y!=2]"
   ]
  },
  {
   "cell_type": "markdown",
   "metadata": {},
   "source": [
    "### Diccionarios por comprensión\n",
    "Al igual que las listas podemos crear diccionarios por comprensión"
   ]
  },
  {
   "cell_type": "code",
   "execution_count": 16,
   "metadata": {
    "collapsed": false
   },
   "outputs": [
    {
     "data": {
      "text/plain": [
       "{'entrada0': 0, 'entrada1': 1, 'entrada2': 4, 'entrada3': 9, 'entrada4': 16}"
      ]
     },
     "execution_count": 16,
     "metadata": {},
     "output_type": "execute_result"
    }
   ],
   "source": [
    "{'entrada'+str(i):i**2 for i in range(0,5)}"
   ]
  },
  {
   "cell_type": "markdown",
   "metadata": {
    "collapsed": true
   },
   "source": [
    "## Importando paquetes y funciones\n",
    "\n",
    "Los paquetes son conjuntos de funciones que tenemos que llamar si los vamos a usar en el programa.\n",
    "\n",
    "Podemos llamar paquetes de diferentes maneras:"
   ]
  },
  {
   "cell_type": "code",
   "execution_count": 35,
   "metadata": {
    "collapsed": false
   },
   "outputs": [
    {
     "name": "stdout",
     "output_type": "stream",
     "text": [
      "Esto\n",
      "es\n",
      "muy\n",
      "demorado\n"
     ]
    }
   ],
   "source": [
    "import time # libreria que contiene funciones relacuionadas con el tiempo\n",
    "for x in 'Esto es muy demorado'.split(' '):\n",
    "    time.sleep(1.5)\n",
    "    print(x)"
   ]
  },
  {
   "cell_type": "code",
   "execution_count": 43,
   "metadata": {
    "collapsed": false
   },
   "outputs": [
    {
     "data": {
      "text/html": [
       "<div>\n",
       "<style>\n",
       "    .dataframe thead tr:only-child th {\n",
       "        text-align: right;\n",
       "    }\n",
       "\n",
       "    .dataframe thead th {\n",
       "        text-align: left;\n",
       "    }\n",
       "\n",
       "    .dataframe tbody tr th {\n",
       "        vertical-align: top;\n",
       "    }\n",
       "</style>\n",
       "<table border=\"1\" class=\"dataframe\">\n",
       "  <thead>\n",
       "    <tr style=\"text-align: right;\">\n",
       "      <th></th>\n",
       "      <th>apellidos</th>\n",
       "      <th>nombre</th>\n",
       "    </tr>\n",
       "  </thead>\n",
       "  <tbody>\n",
       "    <tr>\n",
       "      <th>0</th>\n",
       "      <td>Santos</td>\n",
       "      <td>Juan</td>\n",
       "    </tr>\n",
       "    <tr>\n",
       "      <th>1</th>\n",
       "      <td>Ochoa</td>\n",
       "      <td>Javier</td>\n",
       "    </tr>\n",
       "  </tbody>\n",
       "</table>\n",
       "</div>"
      ],
      "text/plain": [
       "  apellidos  nombre\n",
       "0    Santos    Juan\n",
       "1     Ochoa  Javier"
      ]
     },
     "execution_count": 43,
     "metadata": {},
     "output_type": "execute_result"
    }
   ],
   "source": [
    "import pandas as pd # en lugar de escribir pandas escribiré pd\n",
    "pd.DataFrame({'nombre':['Juan','Javier'], 'apellidos':['Santos','Ochoa']})"
   ]
  },
  {
   "cell_type": "code",
   "execution_count": 5,
   "metadata": {
    "collapsed": false,
    "scrolled": true
   },
   "outputs": [
    {
     "data": {
      "text/html": [
       "\n",
       "<iframe width=\"100%\" height=\"400\" src=\"http://www.xe.com/currencyconverter/\" allowfullscreen=\"allowfullscreen\" frameborder=\"0\"></iframe>\n"
      ],
      "text/plain": [
       "<IPython.core.display.HTML object>"
      ]
     },
     "execution_count": 5,
     "metadata": {},
     "output_type": "execute_result"
    }
   ],
   "source": [
    "from IPython.display import HTML # importamos solo una o varias funciones del paquete\n",
    "HTML('''\n",
    "<iframe width=\"100%\" height=\"400\" src=\"http://www.xe.com/currencyconverter/\" allowfullscreen=\"allowfullscreen\" frameborder=\"0\"></iframe>\n",
    "''')"
   ]
  },
  {
   "cell_type": "markdown",
   "metadata": {},
   "source": [
    "## Definiendo funciones\n",
    "\n",
    "En Python podemos definir nuestras propias funciones para ahorrar tiempo y líneas de código cuando tenemos un proceso en el que repetimos el mismo procedimiento.\n",
    "\n",
    "La sintaxis general para definir una función es la siguiente:\n",
    "```python\n",
    "def nombre_funcion(lista de parametros):\n",
    "    ''' Documentación \n",
    "            de la función'''\n",
    "    cuerpo de la funcion: procedimientos, loops, if-statements, otras funciones\n",
    "    return resultados\n",
    "```\n",
    "\n",
    "* Para ejecutar la función escribimos el nombre de la función y los parámetros:\n",
    "\n",
    "```python\n",
    "nombre_funcion(parametros)\n",
    "```\n",
    "* Los parámetros controlan cómo se ejecutará la función. Una función puede \n"
   ]
  },
  {
   "cell_type": "code",
   "execution_count": 4,
   "metadata": {
    "collapsed": false
   },
   "outputs": [
    {
     "name": "stdout",
     "output_type": "stream",
     "text": [
      "Hola mundo!\n"
     ]
    }
   ],
   "source": [
    "#  no contener parámetros\n",
    "def mi_funcion():\n",
    "    print(\"Hola mundo!\")\n",
    "    \n",
    "mi_funcion()"
   ]
  },
  {
   "cell_type": "code",
   "execution_count": 6,
   "metadata": {
    "collapsed": false
   },
   "outputs": [
    {
     "name": "stdout",
     "output_type": "stream",
     "text": [
      "Hola Juan!\n"
     ]
    }
   ],
   "source": [
    "# Parámetros obligatorios\n",
    "def mi_funcion(nombre):\n",
    "    print(\"Hola \"+nombre+\"!\")\n",
    "        \n",
    "mi_funcion('Juan')"
   ]
  },
  {
   "cell_type": "code",
   "execution_count": 12,
   "metadata": {
    "collapsed": false
   },
   "outputs": [
    {
     "name": "stdout",
     "output_type": "stream",
     "text": [
      "Hola mundo!\n",
      "Hola Juan!\n"
     ]
    }
   ],
   "source": [
    "# Parámetros opcionales\n",
    "def mi_funcion(nombre='mundo'):\n",
    "    print(\"Hola \"+nombre+\"!\")\n",
    "    \n",
    "mi_funcion()\n",
    "mi_funcion('Juan')"
   ]
  },
  {
   "cell_type": "code",
   "execution_count": 51,
   "metadata": {
    "collapsed": false
   },
   "outputs": [
    {
     "name": "stdout",
     "output_type": "stream",
     "text": [
      "Hola juan\n",
      "Hola juansantosochoa26!\n"
     ]
    },
    {
     "data": {
      "text/plain": [
       "'santosochoa26'"
      ]
     },
     "execution_count": 51,
     "metadata": {},
     "output_type": "execute_result"
    }
   ],
   "source": [
    "# parametros que no definimos.\n",
    "def mi_funcion(nombre,**kwargs):\n",
    "    if kwargs:\n",
    "        texto = ''\n",
    "        for x in kwargs:\n",
    "            texto += kwargs[x]\n",
    "        print(\"Hola \"+nombre+texto+\"!\")\n",
    "    else:\n",
    "        texto = nombre\n",
    "        print(\"Hola \"+nombre)\n",
    "    return texto\n",
    "mi_funcion(nombre='juan')\n",
    "mi_funcion(nombre='juan', apellido1='santos',apellido2='ochoa',numero='26')"
   ]
  },
  {
   "cell_type": "code",
   "execution_count": 103,
   "metadata": {
    "collapsed": false
   },
   "outputs": [
    {
     "name": "stdout",
     "output_type": "stream",
     "text": [
      "y\n",
      "Buenas Tardes y\n"
     ]
    }
   ],
   "source": [
    "# introducir un input interactivamente\n",
    "def mi_funcion():\n",
    "    nombre = input()\n",
    "    print(\"Buenas Tardes\",nombre)\n",
    "mi_funcion()"
   ]
  },
  {
   "cell_type": "markdown",
   "metadata": {},
   "source": [
    "   \n",
    "* La documentación es opcional, aunque muy recomendable. Idealmente se debe describir qué hace la función, qué hace cada parámetro y algún ejemplo de funcionamiento.\n",
    "* El cuerpo de la función son instrucciones de código en Python donde usamos los parámetros.\n",
    "* Usualmente una función retorna un resultado, aunque no es estrictamente necesario.\n",
    "* En algunos casos si la función consiste en solo una línea de código puede ser conveniente guardarla como una **función lambda**:"
   ]
  },
  {
   "cell_type": "code",
   "execution_count": 61,
   "metadata": {
    "collapsed": false
   },
   "outputs": [
    {
     "data": {
      "text/plain": [
       "150"
      ]
     },
     "execution_count": 61,
     "metadata": {},
     "output_type": "execute_result"
    }
   ],
   "source": [
    "f = lambda x: x**2+x**3\n",
    "f(5)"
   ]
  },
  {
   "cell_type": "markdown",
   "metadata": {},
   "source": [
    "# EJERCICIO\n",
    "\n",
    "Vamos a programar varias funciones:\n",
    "1. **Fibonnaci**:\n",
    "\n",
    "    Una serie de Fibonacci es una serie de números en la que el elemento siguiente es igual a la suma de los dos anteriores, por ejemplo, 1,1,2,3,5,8,13,21....\n",
    "\n",
    "    Cree una función que se llame `fibonacci` y tenga un parámetro `N` que sea un número entero y retorne como resultado una lista con los primeros N elementos de la serie de fibonacci. La función debe detectar que el parámetro introducido sea un entero, y en caso contrario debe imprimir un mensaje en el que diga que no se introdujo un entero. \n",
    "    \n",
    "    _sugerencia: puede usar las funciones `type()`, `range()`, `sum()`_\n",
    "2. **Análisis de texto**:\n",
    "\n",
    "    Crearemos una función llamada analisis_texto en la que introduciremos de manera interactiva un texto largo y el output serán algunas estadísticas del texto:\n",
    "    * Número total de caracteres\n",
    "    * Número total de palabras\n",
    "    * Número de palabras únicas\n",
    "    * Número de oraciones (Una oración acaba donde hay un punto)..\n",
    "    * Número promedio de palabras en cada oración.\n",
    "    \n",
    "    \n",
    "La función debe tener un parámetro opcional que se llame `palabras` y debe ser una lista de palabras. Si el parámetro se incluye, entonces en el resultado también se debe reportar la frecuencia con que ocurren estas palabras en el texto y en cuántas oraciones aparece.\n",
    "\n",
    "_sugerencia: utilice el método .split() para datos de texto. También las funciones input(),len()_\n",
    "    "
   ]
  },
  {
   "cell_type": "code",
   "execution_count": 4,
   "metadata": {
    "collapsed": false,
    "scrolled": false
   },
   "outputs": [
    {
     "name": "stdout",
     "output_type": "stream",
     "text": [
      "iiweudhlsknsdjdcihsdbck<.sjdbc  sdpcisdvjksdbvñuifvgervn  v´va\n",
      "Número de caracteres: 62\n",
      "Número de palabras: 5\n",
      "Número de palabras únicas: 4\n",
      "Número de oraciones: 2\n",
      "Número promedio de palabras en cada oración: 2.5\n",
      "La palabra jus aparece 0 veces y está en 0 oraciones\n",
      "La palabra is aparece 1 veces y está en 1 oraciones\n"
     ]
    }
   ],
   "source": [
    "from ejercicios import fibonacci, analisis_textos\n",
    "analisis_textos(['jus', 'is'])"
   ]
  },
  {
   "cell_type": "markdown",
   "metadata": {},
   "source": []
  },
  {
   "cell_type": "code",
   "execution_count": null,
   "metadata": {
    "collapsed": false
   },
   "outputs": [],
   "source": []
  }
 ],
 "metadata": {
  "anaconda-cloud": {},
  "kernelspec": {
   "display_name": "Python [py36]",
   "language": "python",
   "name": "Python [py36]"
  },
  "language_info": {
   "codemirror_mode": {
    "name": "ipython",
    "version": 3
   },
   "file_extension": ".py",
   "mimetype": "text/x-python",
   "name": "python",
   "nbconvert_exporter": "python",
   "pygments_lexer": "ipython3",
   "version": "3.6.1"
  }
 },
 "nbformat": 4,
 "nbformat_minor": 2
}
